{
  "nbformat": 4,
  "nbformat_minor": 0,
  "metadata": {
    "colab": {
      "provenance": [],
      "collapsed_sections": [],
      "include_colab_link": true
    },
    "kernelspec": {
      "display_name": "Julia",
      "language": "julia",
      "name": "julia"
    },
    "language_info": {
      "file_extension": ".jl",
      "mimetype": "application/julia",
      "name": "julia"
    }
  },
  "cells": [
    {
      "cell_type": "markdown",
      "metadata": {
        "id": "view-in-github",
        "colab_type": "text"
      },
      "source": [
        "<a href=\"https://colab.research.google.com/github/HJJoosse/ws-julia-nov22/blob/main/Workshop_Julia_Skyline.ipynb\" target=\"_parent\"><img src=\"https://colab.research.google.com/assets/colab-badge.svg\" alt=\"Open In Colab\"/></a>"
      ]
    },
    {
      "cell_type": "markdown",
      "metadata": {
        "id": "tQ1r1bbb0yBv"
      },
      "source": [
        "# Workshop Julia \n",
        "\n",
        "Following is a standard Julia template for installing Julia on Colab, please follow the instructions (we don't necessarily need a GPU for this workshop). However, if you feel like it, please feel free to use one.\n",
        "\n",
        "## Instructions\n",
        "1. Work on a copy of this notebook: _File_ > _Save a copy in Drive_ (you will need a Google account). Alternatively, you can download the notebook using _File_ > _Download .ipynb_, then upload it to [Colab](https://colab.research.google.com/).\n",
        "2. If you need a GPU: _Runtime_ > _Change runtime type_ > _Harware accelerator_ = _GPU_.\n",
        "3. Execute the following cell (click on it and press Ctrl+Enter) to install Julia, IJulia and other packages (if needed, update `JULIA_VERSION` and the other parameters). This takes a couple of minutes.\n",
        "4. Reload this page (press Ctrl+R, or ⌘+R, or the F5 key) and continue to the next section.\n",
        "\n",
        "_Notes_:\n",
        "* If your Colab Runtime gets reset (e.g., due to inactivity), repeat steps 2, 3 and 4.\n",
        "* After installation, if you want to change the Julia version or activate/deactivate the GPU, you will need to reset the Runtime: _Runtime_ > _Factory reset runtime_ and repeat steps 3 and 4."
      ]
    },
    {
      "cell_type": "code",
      "metadata": {
        "id": "GIeFXS0F0zww",
        "colab": {
          "base_uri": "https://localhost:8080/"
        },
        "outputId": "98dab33f-c7ec-4042-87ab-4b82cdea7f59"
      },
      "source": [
        "%%shell\n",
        "set -e\n",
        "\n",
        "#---------------------------------------------------#\n",
        "JULIA_VERSION=\"1.8.2\" # any version ≥ 0.7.0\n",
        "JULIA_PACKAGES=\"IJulia UrlDownload Plots Distributions CSV DataFrames MLJ XGBoost MLJLinearModels MLJXGBoostInterface MLJModels\"\n",
        "JULIA_PACKAGES_IF_GPU=\"CUDA\" # or CuArrays for older Julia versions\n",
        "JULIA_NUM_THREADS=2\n",
        "#---------------------------------------------------#\n",
        "\n",
        "if [ -z `which julia` ]; then\n",
        "  # Install Julia\n",
        "  JULIA_VER=`cut -d '.' -f -2 <<< \"$JULIA_VERSION\"`\n",
        "  echo \"Installing Julia $JULIA_VERSION on the current Colab Runtime...\"\n",
        "  BASE_URL=\"https://julialang-s3.julialang.org/bin/linux/x64\"\n",
        "  URL=\"$BASE_URL/$JULIA_VER/julia-$JULIA_VERSION-linux-x86_64.tar.gz\"\n",
        "  wget -nv $URL -O /tmp/julia.tar.gz # -nv means \"not verbose\"\n",
        "  tar -x -f /tmp/julia.tar.gz -C /usr/local --strip-components 1\n",
        "  rm /tmp/julia.tar.gz\n",
        "\n",
        "  # Install Packages\n",
        "  if [ \"$COLAB_GPU\" = \"1\" ]; then\n",
        "      JULIA_PACKAGES=\"$JULIA_PACKAGES $JULIA_PACKAGES_IF_GPU\"\n",
        "  fi\n",
        "  for PKG in `echo $JULIA_PACKAGES`; do\n",
        "    echo \"Installing Julia package $PKG...\"\n",
        "    julia -e 'using Pkg; pkg\"add '$PKG'; precompile;\"' &> /dev/null\n",
        "  done\n",
        "\n",
        "  # Install kernel and rename it to \"julia\"\n",
        "  echo \"Installing IJulia kernel...\"\n",
        "  julia -e 'using IJulia; IJulia.installkernel(\"julia\", env=Dict(\n",
        "      \"JULIA_NUM_THREADS\"=>\"'\"$JULIA_NUM_THREADS\"'\"))'\n",
        "  KERNEL_DIR=`julia -e \"using IJulia; print(IJulia.kerneldir())\"`\n",
        "  KERNEL_NAME=`ls -d \"$KERNEL_DIR\"/julia*`\n",
        "  mv -f $KERNEL_NAME \"$KERNEL_DIR\"/julia  \n",
        "\n",
        "  echo ''\n",
        "  echo \"Successfully installed `julia -v`!\"\n",
        "  echo \"Please reload this page (press Ctrl+R, ⌘+R, or the F5 key) then\"\n",
        "  echo \"jump to the 'Checking the Installation' section.\"\n",
        "fi"
      ],
      "execution_count": null,
      "outputs": [
        {
          "output_type": "stream",
          "name": "stdout",
          "text": [
            "Installing Julia 1.8.2 on the current Colab Runtime...\n",
            "2022-10-31 14:03:17 URL:https://storage.googleapis.com/julialang2/bin/linux/x64/1.8/julia-1.8.2-linux-x86_64.tar.gz [135859273/135859273] -> \"/tmp/julia.tar.gz\" [1]\n",
            "Installing Julia package IJulia...\n"
          ]
        }
      ]
    },
    {
      "cell_type": "markdown",
      "metadata": {
        "id": "-OS3Ac017T1i"
      },
      "source": [
        "# Checking the Installation\n",
        "The `versioninfo()` function should print your Julia version and some other info about the system:"
      ]
    },
    {
      "cell_type": "code",
      "metadata": {
        "id": "EEzvvzCl1i0F",
        "colab": {
          "base_uri": "https://localhost:8080/"
        },
        "outputId": "4a7e9e22-eb7b-402e-af23-05191781ef26"
      },
      "source": [
        "versioninfo()"
      ],
      "execution_count": null,
      "outputs": [
        {
          "output_type": "stream",
          "name": "stdout",
          "text": [
            "Julia Version 1.8.2\n",
            "Commit 36034abf260 (2022-09-29 15:21 UTC)\n",
            "Platform Info:\n",
            "  OS: Linux (x86_64-linux-gnu)\n",
            "  CPU: 2 × Intel(R) Xeon(R) CPU @ 2.20GHz\n",
            "  WORD_SIZE: 64\n",
            "  LIBM: libopenlibm\n",
            "  LLVM: libLLVM-13.0.1 (ORCJIT, broadwell)\n",
            "  Threads: 2 on 2 virtual cores\n",
            "Environment:\n",
            "  LD_LIBRARY_PATH = /usr/local/nvidia/lib:/usr/local/nvidia/lib64\n",
            "  LD_PRELOAD = /usr/lib/x86_64-linux-gnu/libtcmalloc.so.4\n",
            "  JULIA_NUM_THREADS = 2\n"
          ]
        }
      ]
    },
    {
      "cell_type": "markdown",
      "source": [
        "### Using Julia\n",
        "\n",
        "Let's first take a look at how Julia functions. Variable naming is very similar to R and Python. We can just assign a value to a certain name, and you're done.\n",
        "We can, however, also use unicode! This latter is also very useful, as we can use the ∉ or ∈ variable for subsetting. But for this workshop, as we work in Colab, we will not be using this. \n",
        "Another neat item is list comprehensions, which work more or less the same as in Python. If else statements in these comprehensions work a bit differently."
      ],
      "metadata": {
        "id": "FvCHra-2jvnK"
      }
    },
    {
      "cell_type": "code",
      "source": [
        "a = [1,2,3];\n",
        "b = \"Hi!\"\n",
        "c = [3,4,5]\n",
        "d = [x for x in a if x in c] ### get all the items that are in a and c (basically the intersection)\n",
        "e = [x-2 < 0 ? abs(x-2) : x-2 for x in a] ### if x-2 < 0 then abs(x-2) else x-2"
      ],
      "metadata": {
        "colab": {
          "base_uri": "https://localhost:8080/"
        },
        "id": "VfMGJPq0jsEQ",
        "outputId": "0506cebf-082d-432f-8e17-486a05f623b4"
      },
      "execution_count": null,
      "outputs": [
        {
          "output_type": "execute_result",
          "data": {
            "text/plain": [
              "3-element Vector{Int64}:\n",
              " 1\n",
              " 0\n",
              " 1"
            ]
          },
          "metadata": {},
          "execution_count": 2
        }
      ]
    },
    {
      "cell_type": "markdown",
      "source": [
        "When working with lists, arrays and other iterables, there are some differences compared to R and Python. For example, when trying to do an operation over an iterable, we use . in front of the operator, or behind the function call. For example, lets assume we have an array, and we want to select all the items above a certain value."
      ],
      "metadata": {
        "id": "E5PCPHKhOfEd"
      }
    },
    {
      "cell_type": "code",
      "source": [
        "using Distributions\n",
        "\n",
        "d = Normal(0,1)\n",
        "x = rand(d, 100)\n",
        "x[x .< 0]"
      ],
      "metadata": {
        "colab": {
          "base_uri": "https://localhost:8080/"
        },
        "id": "HhoUGQ3tOdLX",
        "outputId": "425c2ca8-91c0-4310-c016-24c9eda6ae63"
      },
      "execution_count": null,
      "outputs": [
        {
          "output_type": "execute_result",
          "data": {
            "text/plain": [
              "50-element Vector{Float64}:\n",
              " -0.4026044217331692\n",
              " -0.7579234775692633\n",
              " -0.7972294988994\n",
              " -0.7664814396566303\n",
              " -0.3771328531213684\n",
              " -0.13903512398461848\n",
              " -0.32440620960932315\n",
              " -0.9218759209954368\n",
              " -0.234877665918437\n",
              " -0.5137123051152007\n",
              " -0.34948578125480073\n",
              " -1.2468521122451373\n",
              " -0.7146517465875762\n",
              "  ⋮\n",
              " -1.0256917532422523\n",
              " -0.23339669338082206\n",
              " -0.23705460547947882\n",
              " -1.5517569081705744\n",
              " -1.4512555781232714\n",
              " -1.4272022248506113\n",
              " -0.8441352051225514\n",
              " -0.9437904937903032\n",
              " -0.28175121867311026\n",
              " -0.8783907343429743\n",
              " -0.2836296162765255\n",
              " -0.5748288490754441"
            ]
          },
          "metadata": {},
          "execution_count": 3
        }
      ]
    },
    {
      "cell_type": "markdown",
      "source": [
        "Or if we have a nested list, and we want a sum of each list within the list."
      ],
      "metadata": {
        "id": "Ny2CyrFbQ64X"
      }
    },
    {
      "cell_type": "code",
      "source": [
        "x = [[2,3],[4,5]]\n",
        "sum.(x)"
      ],
      "metadata": {
        "colab": {
          "base_uri": "https://localhost:8080/"
        },
        "id": "XXhvUh0IQyyK",
        "outputId": "01999927-801f-4005-e760-345e9cfc39d4"
      },
      "execution_count": null,
      "outputs": [
        {
          "output_type": "execute_result",
          "data": {
            "text/plain": [
              "2-element Vector{Int64}:\n",
              " 5\n",
              " 9"
            ]
          },
          "metadata": {},
          "execution_count": 53
        }
      ]
    },
    {
      "cell_type": "markdown",
      "source": [
        "Matrices can be built quite easily. If we want a column or rowwise sum, we have to use the ```eachcol``` or ```eachrow``` command.\n"
      ],
      "metadata": {
        "id": "qZma54rDTh17"
      }
    },
    {
      "cell_type": "code",
      "source": [
        "A = [1 2;3 4]\n",
        "sum(eachrow(A))"
      ],
      "metadata": {
        "colab": {
          "base_uri": "https://localhost:8080/"
        },
        "id": "ZroZM5-WTmWL",
        "outputId": "e34716b0-72db-4d51-ee96-617eb21e32a3"
      },
      "execution_count": null,
      "outputs": [
        {
          "output_type": "execute_result",
          "data": {
            "text/plain": [
              "2-element Vector{Int64}:\n",
              " 4\n",
              " 6"
            ]
          },
          "metadata": {},
          "execution_count": 57
        }
      ]
    },
    {
      "cell_type": "markdown",
      "source": [
        "One last syntactic thing I would like to discuss is the (...) syntax, which is the syntax for splatting in Julia. We might know splatting from Python where we can use * (e.g., ```print(*a)```, which would result in ```1 2 3``` instead of ```[1, 2, 3]```. In Julia we would do the following:"
      ],
      "metadata": {
        "id": "2jKwhr-WYmL5"
      }
    },
    {
      "cell_type": "code",
      "source": [
        "a = [1,2,3];\n",
        "println(a)\n",
        "print(a...)\n"
      ],
      "metadata": {
        "colab": {
          "base_uri": "https://localhost:8080/"
        },
        "id": "B4saLekkYdI0",
        "outputId": "6c0e91b3-0874-423e-fb86-139906bf48f6"
      },
      "execution_count": null,
      "outputs": [
        {
          "output_type": "stream",
          "name": "stdout",
          "text": [
            "[1, 2, 3]\n",
            "123"
          ]
        }
      ]
    },
    {
      "cell_type": "markdown",
      "source": [
        "### Let's Get Started!\n",
        "\n",
        "In this tutorial we will work with the [the Winconsin Breast Cancer Data](https://archive.ics.uci.edu/ml/datasets/Breast+Cancer+Wisconsin+(Diagnostic)).\n",
        "\n",
        "Go ahead and download the data using the URLDownload package."
      ],
      "metadata": {
        "id": "reuhPAnydjhH"
      }
    },
    {
      "cell_type": "code",
      "source": [
        "using UrlDownload, DataFrames, MLJ\n",
        "\n",
        "url = \"https://archive.ics.uci.edu/ml/machine-learning-databases/breast-cancer-wisconsin/wdbc.data\";\n",
        "feature_names = [\"ID\", \"Class\", \"mean_radius\", \"mean_texture\", \"mean_perimeter\",\n",
        " \"mean_area\", \"mean_smoothness\", \"mean_compactness\", \"mean_concavity\", \"mean_concave_points\",\n",
        "  \"mean_symmetry\", \"mean_fractal_dimension\", \"radius_error\", \"texture_error\", \"perimeter_error\", \"area_error\",\n",
        "   \"smoothness_error\", \"compactness_error\", \"concavity_error\", \"concave_points_error\", \"symmetry_error\", \"fractal_dimension error\",\n",
        "    \"worst_adius\", \"worst_texture\", \"worst_perimeter\", \"worst_area\", \"worst_smoothness\", \"worst_compactness\", \"worst_concavity\",\n",
        "     \"worst_concave_points\", \"worst_symmetry\", \"worst_fractal_dimension\"]\n",
        "data = urldownload(url, true, format = :CSV, header = feature_names) |> DataFrame;\n",
        "\n",
        "data = coerce(data,autotype(data));\n"
      ],
      "metadata": {
        "id": "z-i26ptwdypb"
      },
      "execution_count": null,
      "outputs": []
    },
    {
      "cell_type": "markdown",
      "source": [
        "We already see some more syntactic features of Julia in this code. \n",
        "First of all, when importing modules, there are  two ways of doing this: We can use ```using```, or ```import```. More information on the differences between the two can be found in [the documentation](https://docs.julialang.org/en/v1/manual/modules/#Standalone-using-and-import). TLDR: ```using``` is most commonly used, but ```import``` might be useful for extending on specific functions you import, as this is more limited with ```using```.\n",
        "\n",
        "In the ``` urldownload  ``` call, we see the ``` :CSV ``` argument, which means that the data is loaded into the format as used in the \"CSV\" module. The colon in front of \"CSV\" is a replacement for quotation marks, meaning that this is a symbol.\n",
        "\n",
        "Another syntactic feature that we see is in the ```|>``` operator. This might be familiar from other programming languages, and this is nothing more than a pipe. We could also have called ```DataFrame(urldownload(...))```, which would resulted in the same dataframe.\n",
        "\n",
        "Lastly, we add a semicolon (;) to the end of each sentence, as Julia will output the last call automatically to the output (even if this call would result in a new object).\n",
        "\n",
        "### Indexing rows and columns\n",
        "\n",
        "DataFrame rows and columns are accessed similarly to R and Pandas/Numpy in Python. Important: when accessing Columns, you have to include \":\" to select all rows (e.g., ```df[:,:column_of_interest]```). Columns can also be accessed by using ```df.column_of_interest``` (just like in Pandas). If you want to access more columns, you will have to add a list  ```df[:,[:col1,:col2]]. Another neat trick is to use the ```end``` operator. If we want to select row 2 untill the end we would simply use ```df[2:end,:]``` \n",
        "\n",
        "Try to play around, and select some individual or ranges of rows and columns based on numbers, or based on a certain condition. Also, try to get some summary statistics on some of the columns. Remember: dataframes usually have similar behaviour to matrices, so use the ```eachrow``` and ```eachcol``` functions, or select columns individually, and use the . operator for wrangling and conditions."
      ],
      "metadata": {
        "id": "Z4mFvs1Y23pb"
      }
    },
    {
      "cell_type": "code",
      "source": [],
      "metadata": {
        "id": "x3_dq8ksZct_"
      },
      "execution_count": null,
      "outputs": []
    },
    {
      "cell_type": "markdown",
      "source": [
        "\n",
        "### Visualization\n",
        "Next, let's inspect what we are working with! We can visualize the outcome (class), to get some intuition for the outcome and data. For this we use the ```Plots``` module. The neat thing about this module is that it is capable of using several backends for plotting. It has a default backend ```GR```, but it is also capable of using ```Plotly``` or ```PyPlot```, amongst others.\n",
        "\n",
        "In this workshop we use the ```Gr``` backend, but feel free to play around with some other backends. A list can be found [here](https://docs.juliaplots.org/latest/backends/).\n",
        "First, let's install the ```StatsPlots``` module, by using the Julia package manager (Pkg), to be able to plot data directly from a DataFrame.\n"
      ],
      "metadata": {
        "id": "JzGca0e9Q1lf"
      }
    },
    {
      "cell_type": "code",
      "source": [
        "using Pkg\n",
        "Pkg.add(\"StatsPlots\")\n"
      ],
      "metadata": {
        "colab": {
          "base_uri": "https://localhost:8080/"
        },
        "id": "Kws5GV0NGorM",
        "outputId": "0d3cde80-8649-43f6-8742-3d3c37c69c78"
      },
      "execution_count": null,
      "outputs": [
        {
          "output_type": "stream",
          "name": "stderr",
          "text": [
            "\u001b[32m\u001b[1m   Resolving\u001b[22m\u001b[39m package versions...\n",
            "\u001b[32m\u001b[1m  No Changes\u001b[22m\u001b[39m to `~/.julia/environments/v1.8/Project.toml`\n",
            "\u001b[32m\u001b[1m  No Changes\u001b[22m\u001b[39m to `~/.julia/environments/v1.8/Manifest.toml`\n",
            "\u001b[32m\u001b[1m   Resolving\u001b[22m\u001b[39m package versions...\n",
            "\u001b[32m\u001b[1m  No Changes\u001b[22m\u001b[39m to `~/.julia/environments/v1.8/Project.toml`\n",
            "\u001b[32m\u001b[1m  No Changes\u001b[22m\u001b[39m to `~/.julia/environments/v1.8/Manifest.toml`\n"
          ]
        }
      ]
    },
    {
      "cell_type": "markdown",
      "source": [
        "We then import the ```Plots``` module, and call the ```GR``` backend with the ```gr()``` call. The last part is optional, as GR is the default backend. But if one would plotly or pyplot or other backends, this step would be how you set the backend. Then we a histogram of the outcome class.\n",
        "\n"
      ],
      "metadata": {
        "id": "aMPgaGDcBklk"
      }
    },
    {
      "cell_type": "code",
      "source": [
        "using Plots, StatsPlots\n",
        "gr()"
      ],
      "metadata": {
        "colab": {
          "base_uri": "https://localhost:8080/"
        },
        "id": "KWK_c3RtDjxA",
        "outputId": "9e36f8df-a804-460a-c747-a2931587065f"
      },
      "execution_count": null,
      "outputs": [
        {
          "output_type": "execute_result",
          "data": {
            "text/plain": [
              "Plots.GRBackend()"
            ]
          },
          "metadata": {},
          "execution_count": 15
        }
      ]
    },
    {
      "cell_type": "markdown",
      "source": [
        "```Statsplot``` makes it possible to use the ```@df``` operator, which makes it easy to use a dataframe. The syntax would be: ```@df dataframe_name plot_type(:column1, :column2)```. But you can also use ```histogram(data[:,:Class])```\n"
      ],
      "metadata": {
        "id": "r3GeQtdKQCAy"
      }
    },
    {
      "cell_type": "code",
      "source": [
        "@df data histogram(:Class)"
      ],
      "metadata": {
        "colab": {
          "base_uri": "https://localhost:8080/",
          "height": 421
        },
        "id": "BHUgjcAdFuhz",
        "outputId": "0b1c030d-fbb7-482e-f681-20e099bbb9f9"
      },
      "execution_count": null,
      "outputs": [
        {
          "output_type": "execute_result",
          "data": {
            "image/svg+xml": "<?xml version=\"1.0\" encoding=\"utf-8\"?>\n<svg xmlns=\"http://www.w3.org/2000/svg\" xmlns:xlink=\"http://www.w3.org/1999/xlink\" width=\"600\" height=\"400\" viewBox=\"0 0 2400 1600\">\n<defs>\n  <clipPath id=\"clip770\">\n    <rect x=\"0\" y=\"0\" width=\"2400\" height=\"1600\"/>\n  </clipPath>\n</defs>\n<path clip-path=\"url(#clip770)\" d=\"\nM0 1600 L2400 1600 L2400 0 L0 0  Z\n  \" fill=\"#ffffff\" fill-rule=\"evenodd\" fill-opacity=\"1\"/>\n<defs>\n  <clipPath id=\"clip771\">\n    <rect x=\"480\" y=\"0\" width=\"1681\" height=\"1600\"/>\n  </clipPath>\n</defs>\n<path clip-path=\"url(#clip770)\" d=\"\nM109.747 1486.45 L2352.76 1486.45 L2352.76 47.2441 L109.747 47.2441  Z\n  \" fill=\"#ffffff\" fill-rule=\"evenodd\" fill-opacity=\"1\"/>\n<defs>\n  <clipPath id=\"clip772\">\n    <rect x=\"109\" y=\"47\" width=\"2244\" height=\"1440\"/>\n  </clipPath>\n</defs>\n<polyline clip-path=\"url(#clip772)\" style=\"stroke:#000000; stroke-linecap:round; stroke-linejoin:round; stroke-width:2; stroke-opacity:0.1; fill:none\" points=\"\n  565.828,1486.45 565.828,47.2441 \n  \"/>\n<polyline clip-path=\"url(#clip772)\" style=\"stroke:#000000; stroke-linecap:round; stroke-linejoin:round; stroke-width:2; stroke-opacity:0.1; fill:none\" points=\"\n  1064.9,1486.45 1064.9,47.2441 \n  \"/>\n<polyline clip-path=\"url(#clip772)\" style=\"stroke:#000000; stroke-linecap:round; stroke-linejoin:round; stroke-width:2; stroke-opacity:0.1; fill:none\" points=\"\n  1563.96,1486.45 1563.96,47.2441 \n  \"/>\n<polyline clip-path=\"url(#clip772)\" style=\"stroke:#000000; stroke-linecap:round; stroke-linejoin:round; stroke-width:2; stroke-opacity:0.1; fill:none\" points=\"\n  2063.03,1486.45 2063.03,47.2441 \n  \"/>\n<polyline clip-path=\"url(#clip770)\" style=\"stroke:#000000; stroke-linecap:round; stroke-linejoin:round; stroke-width:4; stroke-opacity:1; fill:none\" points=\"\n  109.747,1486.45 2352.76,1486.45 \n  \"/>\n<polyline clip-path=\"url(#clip770)\" style=\"stroke:#000000; stroke-linecap:round; stroke-linejoin:round; stroke-width:4; stroke-opacity:1; fill:none\" points=\"\n  565.828,1486.45 565.828,1467.55 \n  \"/>\n<polyline clip-path=\"url(#clip770)\" style=\"stroke:#000000; stroke-linecap:round; stroke-linejoin:round; stroke-width:4; stroke-opacity:1; fill:none\" points=\"\n  1064.9,1486.45 1064.9,1467.55 \n  \"/>\n<polyline clip-path=\"url(#clip770)\" style=\"stroke:#000000; stroke-linecap:round; stroke-linejoin:round; stroke-width:4; stroke-opacity:1; fill:none\" points=\"\n  1563.96,1486.45 1563.96,1467.55 \n  \"/>\n<polyline clip-path=\"url(#clip770)\" style=\"stroke:#000000; stroke-linecap:round; stroke-linejoin:round; stroke-width:4; stroke-opacity:1; fill:none\" points=\"\n  2063.03,1486.45 2063.03,1467.55 \n  \"/>\n<path clip-path=\"url(#clip770)\" d=\"M533.779 1544.91 L541.418 1544.91 L541.418 1518.55 L533.108 1520.21 L533.108 1515.95 L541.372 1514.29 L546.048 1514.29 L546.048 1544.91 L553.687 1544.91 L553.687 1548.85 L533.779 1548.85 L533.779 1544.91 Z\" fill=\"#000000\" fill-rule=\"evenodd\" fill-opacity=\"1\" /><path clip-path=\"url(#clip770)\" d=\"M563.131 1542.97 L568.015 1542.97 L568.015 1548.85 L563.131 1548.85 L563.131 1542.97 Z\" fill=\"#000000\" fill-rule=\"evenodd\" fill-opacity=\"1\" /><path clip-path=\"url(#clip770)\" d=\"M582.228 1544.91 L598.548 1544.91 L598.548 1548.85 L576.603 1548.85 L576.603 1544.91 Q579.265 1542.16 583.849 1537.53 Q588.455 1532.88 589.636 1531.53 Q591.881 1529.01 592.761 1527.27 Q593.663 1525.51 593.663 1523.82 Q593.663 1521.07 591.719 1519.33 Q589.798 1517.6 586.696 1517.6 Q584.497 1517.6 582.043 1518.36 Q579.612 1519.13 576.835 1520.68 L576.835 1515.95 Q579.659 1514.82 582.112 1514.24 Q584.566 1513.66 586.603 1513.66 Q591.974 1513.66 595.168 1516.35 Q598.362 1519.03 598.362 1523.52 Q598.362 1525.65 597.552 1527.57 Q596.765 1529.47 594.659 1532.07 Q594.08 1532.74 590.978 1535.95 Q587.876 1539.15 582.228 1544.91 Z\" fill=\"#000000\" fill-rule=\"evenodd\" fill-opacity=\"1\" /><path clip-path=\"url(#clip770)\" d=\"M1032.55 1544.91 L1040.18 1544.91 L1040.18 1518.55 L1031.87 1520.21 L1031.87 1515.95 L1040.14 1514.29 L1044.81 1514.29 L1044.81 1544.91 L1052.45 1544.91 L1052.45 1548.85 L1032.55 1548.85 L1032.55 1544.91 Z\" fill=\"#000000\" fill-rule=\"evenodd\" fill-opacity=\"1\" /><path clip-path=\"url(#clip770)\" d=\"M1061.9 1542.97 L1066.78 1542.97 L1066.78 1548.85 L1061.9 1548.85 L1061.9 1542.97 Z\" fill=\"#000000\" fill-rule=\"evenodd\" fill-opacity=\"1\" /><path clip-path=\"url(#clip770)\" d=\"M1077.01 1514.29 L1095.37 1514.29 L1095.37 1518.22 L1081.3 1518.22 L1081.3 1526.7 Q1082.31 1526.35 1083.33 1526.19 Q1084.35 1526 1085.37 1526 Q1091.16 1526 1094.54 1529.17 Q1097.92 1532.34 1097.92 1537.76 Q1097.92 1543.34 1094.44 1546.44 Q1090.97 1549.52 1084.65 1549.52 Q1082.48 1549.52 1080.21 1549.15 Q1077.96 1548.78 1075.56 1548.04 L1075.56 1543.34 Q1077.64 1544.47 1079.86 1545.03 Q1082.08 1545.58 1084.56 1545.58 Q1088.56 1545.58 1090.9 1543.48 Q1093.24 1541.37 1093.24 1537.76 Q1093.24 1534.15 1090.9 1532.04 Q1088.56 1529.94 1084.56 1529.94 Q1082.68 1529.94 1080.81 1530.35 Q1078.96 1530.77 1077.01 1531.65 L1077.01 1514.29 Z\" fill=\"#000000\" fill-rule=\"evenodd\" fill-opacity=\"1\" /><path clip-path=\"url(#clip770)\" d=\"M1531.16 1544.91 L1538.8 1544.91 L1538.8 1518.55 L1530.49 1520.21 L1530.49 1515.95 L1538.75 1514.29 L1543.43 1514.29 L1543.43 1544.91 L1551.07 1544.91 L1551.07 1548.85 L1531.16 1548.85 L1531.16 1544.91 Z\" fill=\"#000000\" fill-rule=\"evenodd\" fill-opacity=\"1\" /><path clip-path=\"url(#clip770)\" d=\"M1560.51 1542.97 L1565.4 1542.97 L1565.4 1548.85 L1560.51 1548.85 L1560.51 1542.97 Z\" fill=\"#000000\" fill-rule=\"evenodd\" fill-opacity=\"1\" /><path clip-path=\"url(#clip770)\" d=\"M1585.58 1532.44 Q1582.25 1532.44 1580.33 1534.22 Q1578.43 1536 1578.43 1539.13 Q1578.43 1542.25 1580.33 1544.03 Q1582.25 1545.82 1585.58 1545.82 Q1588.92 1545.82 1590.84 1544.03 Q1592.76 1542.23 1592.76 1539.13 Q1592.76 1536 1590.84 1534.22 Q1588.94 1532.44 1585.58 1532.44 M1580.91 1530.45 Q1577.9 1529.7 1576.21 1527.64 Q1574.54 1525.58 1574.54 1522.62 Q1574.54 1518.48 1577.48 1516.07 Q1580.44 1513.66 1585.58 1513.66 Q1590.75 1513.66 1593.69 1516.07 Q1596.62 1518.48 1596.62 1522.62 Q1596.62 1525.58 1594.94 1527.64 Q1593.27 1529.7 1590.28 1530.45 Q1593.66 1531.23 1595.54 1533.52 Q1597.44 1535.82 1597.44 1539.13 Q1597.44 1544.15 1594.36 1546.83 Q1591.3 1549.52 1585.58 1549.52 Q1579.87 1549.52 1576.79 1546.83 Q1573.73 1544.15 1573.73 1539.13 Q1573.73 1535.82 1575.63 1533.52 Q1577.53 1531.23 1580.91 1530.45 M1579.19 1523.06 Q1579.19 1525.75 1580.86 1527.25 Q1582.55 1528.76 1585.58 1528.76 Q1588.59 1528.76 1590.28 1527.25 Q1592 1525.75 1592 1523.06 Q1592 1520.38 1590.28 1518.87 Q1588.59 1517.37 1585.58 1517.37 Q1582.55 1517.37 1580.86 1518.87 Q1579.19 1520.38 1579.19 1523.06 Z\" fill=\"#000000\" fill-rule=\"evenodd\" fill-opacity=\"1\" /><path clip-path=\"url(#clip770)\" d=\"M2034.88 1544.91 L2051.2 1544.91 L2051.2 1548.85 L2029.26 1548.85 L2029.26 1544.91 Q2031.92 1542.16 2036.5 1537.53 Q2041.11 1532.88 2042.29 1531.53 Q2044.54 1529.01 2045.41 1527.27 Q2046.32 1525.51 2046.32 1523.82 Q2046.32 1521.07 2044.37 1519.33 Q2042.45 1517.6 2039.35 1517.6 Q2037.15 1517.6 2034.7 1518.36 Q2032.27 1519.13 2029.49 1520.68 L2029.49 1515.95 Q2032.31 1514.82 2034.77 1514.24 Q2037.22 1513.66 2039.26 1513.66 Q2044.63 1513.66 2047.82 1516.35 Q2051.02 1519.03 2051.02 1523.52 Q2051.02 1525.65 2050.21 1527.57 Q2049.42 1529.47 2047.31 1532.07 Q2046.73 1532.74 2043.63 1535.95 Q2040.53 1539.15 2034.88 1544.91 Z\" fill=\"#000000\" fill-rule=\"evenodd\" fill-opacity=\"1\" /><path clip-path=\"url(#clip770)\" d=\"M2061.02 1542.97 L2065.9 1542.97 L2065.9 1548.85 L2061.02 1548.85 L2061.02 1542.97 Z\" fill=\"#000000\" fill-rule=\"evenodd\" fill-opacity=\"1\" /><path clip-path=\"url(#clip770)\" d=\"M2076.9 1544.91 L2084.54 1544.91 L2084.54 1518.55 L2076.22 1520.21 L2076.22 1515.95 L2084.49 1514.29 L2089.16 1514.29 L2089.16 1544.91 L2096.8 1544.91 L2096.8 1548.85 L2076.9 1548.85 L2076.9 1544.91 Z\" fill=\"#000000\" fill-rule=\"evenodd\" fill-opacity=\"1\" /><polyline clip-path=\"url(#clip772)\" style=\"stroke:#000000; stroke-linecap:round; stroke-linejoin:round; stroke-width:2; stroke-opacity:0.1; fill:none\" points=\"\n  109.747,1441.91 2352.76,1441.91 \n  \"/>\n<polyline clip-path=\"url(#clip772)\" style=\"stroke:#000000; stroke-linecap:round; stroke-linejoin:round; stroke-width:2; stroke-opacity:0.1; fill:none\" points=\"\n  109.747,1438.11 2352.76,1438.11 \n  \"/>\n<polyline clip-path=\"url(#clip772)\" style=\"stroke:#000000; stroke-linecap:round; stroke-linejoin:round; stroke-width:2; stroke-opacity:0.1; fill:none\" points=\"\n  109.747,1434.31 2352.76,1434.31 \n  \"/>\n<polyline clip-path=\"url(#clip770)\" style=\"stroke:#000000; stroke-linecap:round; stroke-linejoin:round; stroke-width:4; stroke-opacity:1; fill:none\" points=\"\n  109.747,1486.45 109.747,47.2441 \n  \"/>\n<polyline clip-path=\"url(#clip770)\" style=\"stroke:#000000; stroke-linecap:round; stroke-linejoin:round; stroke-width:4; stroke-opacity:1; fill:none\" points=\"\n  109.747,1441.91 128.644,1441.91 \n  \"/>\n<polyline clip-path=\"url(#clip770)\" style=\"stroke:#000000; stroke-linecap:round; stroke-linejoin:round; stroke-width:4; stroke-opacity:1; fill:none\" points=\"\n  109.747,1438.11 128.644,1438.11 \n  \"/>\n<polyline clip-path=\"url(#clip770)\" style=\"stroke:#000000; stroke-linecap:round; stroke-linejoin:round; stroke-width:4; stroke-opacity:1; fill:none\" points=\"\n  109.747,1434.31 128.644,1434.31 \n  \"/>\n<path clip-path=\"url(#clip770)\" d=\"M53.8393 1455.26 L61.4782 1455.26 L61.4782 1428.89 L53.168 1430.56 L53.168 1426.3 L61.4319 1424.63 L66.1078 1424.63 L66.1078 1455.26 L73.7466 1455.26 L73.7466 1459.19 L53.8393 1459.19 L53.8393 1455.26 Z\" fill=\"#000000\" fill-rule=\"evenodd\" fill-opacity=\"1\" /><path clip-path=\"url(#clip770)\" d=\"M57.4273 1451.45 L73.7466 1451.45 L73.7466 1455.39 L51.8023 1455.39 L51.8023 1451.45 Q54.4643 1448.7 59.0476 1444.07 Q63.6541 1439.42 64.8346 1438.07 Q67.08 1435.55 67.9596 1433.82 Q68.8624 1432.06 68.8624 1430.37 Q68.8624 1427.61 66.918 1425.88 Q64.9967 1424.14 61.8948 1424.14 Q59.6958 1424.14 57.2421 1424.9 Q54.8115 1425.67 52.0338 1427.22 L52.0338 1422.5 Q54.8578 1421.36 57.3115 1420.78 Q59.7652 1420.2 61.8023 1420.2 Q67.1726 1420.2 70.367 1422.89 Q73.5614 1425.57 73.5614 1430.07 Q73.5614 1432.19 72.7513 1434.12 Q71.9642 1436.01 69.8578 1438.61 Q69.2791 1439.28 66.1772 1442.5 Q63.0754 1445.69 57.4273 1451.45 Z\" fill=\"#000000\" fill-rule=\"evenodd\" fill-opacity=\"1\" /><path clip-path=\"url(#clip770)\" d=\"M66.617 1432.95 Q69.9735 1433.67 71.8485 1435.94 Q73.7466 1438.21 73.7466 1441.54 Q73.7466 1446.66 70.2281 1449.46 Q66.7096 1452.26 60.2282 1452.26 Q58.0523 1452.26 55.7375 1451.82 Q53.4458 1451.4 50.9921 1450.54 L50.9921 1446.03 Q52.9366 1447.16 55.2514 1447.74 Q57.5662 1448.32 60.0893 1448.32 Q64.4874 1448.32 66.7791 1446.59 Q69.0939 1444.85 69.0939 1441.54 Q69.0939 1438.48 66.9411 1436.77 Q64.8115 1435.04 60.9921 1435.04 L56.9643 1435.04 L56.9643 1431.19 L61.1773 1431.19 Q64.6263 1431.19 66.455 1429.83 Q68.2837 1428.44 68.2837 1425.85 Q68.2837 1423.18 66.3856 1421.77 Q64.5106 1420.34 60.9921 1420.34 Q59.0708 1420.34 56.8717 1420.75 Q54.6727 1421.17 52.0338 1422.05 L52.0338 1417.88 Q54.6958 1417.14 57.0106 1416.77 Q59.3486 1416.4 61.4087 1416.4 Q66.7328 1416.4 69.8346 1418.83 Q72.9365 1421.24 72.9365 1425.36 Q72.9365 1428.23 71.2929 1430.22 Q69.6494 1432.19 66.617 1432.95 Z\" fill=\"#000000\" fill-rule=\"evenodd\" fill-opacity=\"1\" /><path clip-path=\"url(#clip772)\" d=\"\nM233.116 87.9763 L233.116 1445.72 L565.828 1445.72 L565.828 87.9763 L233.116 87.9763 L233.116 87.9763  Z\n  \" fill=\"#009af9\" fill-rule=\"evenodd\" fill-opacity=\"1\"/>\n<polyline clip-path=\"url(#clip772)\" style=\"stroke:#000000; stroke-linecap:round; stroke-linejoin:round; stroke-width:4; stroke-opacity:1; fill:none\" points=\"\n  233.116,87.9763 233.116,1445.72 565.828,1445.72 565.828,87.9763 233.116,87.9763 \n  \"/>\n<path clip-path=\"url(#clip772)\" d=\"\nM565.828 1445.72 L565.828 1445.72 L898.54 1445.72 L898.54 1445.72 L565.828 1445.72 L565.828 1445.72  Z\n  \" fill=\"#009af9\" fill-rule=\"evenodd\" fill-opacity=\"1\"/>\n<polyline clip-path=\"url(#clip772)\" style=\"stroke:#000000; stroke-linecap:round; stroke-linejoin:round; stroke-width:4; stroke-opacity:1; fill:none\" points=\"\n  565.828,1445.72 565.828,1445.72 898.54,1445.72 565.828,1445.72 \n  \"/>\n<path clip-path=\"url(#clip772)\" d=\"\nM898.54 1445.72 L898.54 1445.72 L1231.25 1445.72 L1231.25 1445.72 L898.54 1445.72 L898.54 1445.72  Z\n  \" fill=\"#009af9\" fill-rule=\"evenodd\" fill-opacity=\"1\"/>\n<polyline clip-path=\"url(#clip772)\" style=\"stroke:#000000; stroke-linecap:round; stroke-linejoin:round; stroke-width:4; stroke-opacity:1; fill:none\" points=\"\n  898.54,1445.72 898.54,1445.72 1231.25,1445.72 898.54,1445.72 \n  \"/>\n<path clip-path=\"url(#clip772)\" d=\"\nM1231.25 1445.72 L1231.25 1445.72 L1563.96 1445.72 L1563.96 1445.72 L1231.25 1445.72 L1231.25 1445.72  Z\n  \" fill=\"#009af9\" fill-rule=\"evenodd\" fill-opacity=\"1\"/>\n<polyline clip-path=\"url(#clip772)\" style=\"stroke:#000000; stroke-linecap:round; stroke-linejoin:round; stroke-width:4; stroke-opacity:1; fill:none\" points=\"\n  1231.25,1445.72 1231.25,1445.72 1563.96,1445.72 1231.25,1445.72 \n  \"/>\n<path clip-path=\"url(#clip772)\" d=\"\nM1563.96 1445.72 L1563.96 1445.72 L1896.67 1445.72 L1896.67 1445.72 L1563.96 1445.72 L1563.96 1445.72  Z\n  \" fill=\"#009af9\" fill-rule=\"evenodd\" fill-opacity=\"1\"/>\n<polyline clip-path=\"url(#clip772)\" style=\"stroke:#000000; stroke-linecap:round; stroke-linejoin:round; stroke-width:4; stroke-opacity:1; fill:none\" points=\"\n  1563.96,1445.72 1563.96,1445.72 1896.67,1445.72 1563.96,1445.72 \n  \"/>\n<path clip-path=\"url(#clip772)\" d=\"\nM1896.67 639.439 L1896.67 1445.72 L2229.39 1445.72 L2229.39 639.439 L1896.67 639.439 L1896.67 639.439  Z\n  \" fill=\"#009af9\" fill-rule=\"evenodd\" fill-opacity=\"1\"/>\n<polyline clip-path=\"url(#clip772)\" style=\"stroke:#000000; stroke-linecap:round; stroke-linejoin:round; stroke-width:4; stroke-opacity:1; fill:none\" points=\"\n  1896.67,639.439 1896.67,1445.72 2229.39,1445.72 2229.39,639.439 1896.67,639.439 \n  \"/>\n<circle clip-path=\"url(#clip772)\" style=\"fill:#009af9; stroke:none; fill-opacity:0\" cx=\"399.472\" cy=\"87.9763\" r=\"2\"/>\n<circle clip-path=\"url(#clip772)\" style=\"fill:#009af9; stroke:none; fill-opacity:0\" cx=\"732.184\" cy=\"1445.72\" r=\"2\"/>\n<circle clip-path=\"url(#clip772)\" style=\"fill:#009af9; stroke:none; fill-opacity:0\" cx=\"1064.9\" cy=\"1445.72\" r=\"2\"/>\n<circle clip-path=\"url(#clip772)\" style=\"fill:#009af9; stroke:none; fill-opacity:0\" cx=\"1397.61\" cy=\"1445.72\" r=\"2\"/>\n<circle clip-path=\"url(#clip772)\" style=\"fill:#009af9; stroke:none; fill-opacity:0\" cx=\"1730.32\" cy=\"1445.72\" r=\"2\"/>\n<circle clip-path=\"url(#clip772)\" style=\"fill:#009af9; stroke:none; fill-opacity:0\" cx=\"2063.03\" cy=\"639.439\" r=\"2\"/>\n<path clip-path=\"url(#clip770)\" d=\"\nM1976.34 198.898 L2277.99 198.898 L2277.99 95.2176 L1976.34 95.2176  Z\n  \" fill=\"#ffffff\" fill-rule=\"evenodd\" fill-opacity=\"1\"/>\n<polyline clip-path=\"url(#clip770)\" style=\"stroke:#000000; stroke-linecap:round; stroke-linejoin:round; stroke-width:4; stroke-opacity:1; fill:none\" points=\"\n  1976.34,198.898 2277.99,198.898 2277.99,95.2176 1976.34,95.2176 1976.34,198.898 \n  \"/>\n<path clip-path=\"url(#clip770)\" d=\"\nM2001.26 167.794 L2150.79 167.794 L2150.79 126.322 L2001.26 126.322 L2001.26 167.794  Z\n  \" fill=\"#009af9\" fill-rule=\"evenodd\" fill-opacity=\"1\"/>\n<polyline clip-path=\"url(#clip770)\" style=\"stroke:#000000; stroke-linecap:round; stroke-linejoin:round; stroke-width:4; stroke-opacity:1; fill:none\" points=\"\n  2001.26,167.794 2150.79,167.794 2150.79,126.322 2001.26,126.322 2001.26,167.794 \n  \"/>\n<path clip-path=\"url(#clip770)\" d=\"M2189.56 166.745 Q2187.75 171.375 2186.04 172.787 Q2184.33 174.199 2181.45 174.199 L2178.05 174.199 L2178.05 170.634 L2180.55 170.634 Q2182.31 170.634 2183.28 169.8 Q2184.26 168.967 2185.44 165.865 L2186.2 163.921 L2175.71 138.412 L2180.23 138.412 L2188.33 158.689 L2196.43 138.412 L2200.95 138.412 L2189.56 166.745 Z\" fill=\"#000000\" fill-rule=\"evenodd\" fill-opacity=\"1\" /><path clip-path=\"url(#clip770)\" d=\"M2208.24 160.402 L2215.88 160.402 L2215.88 134.037 L2207.57 135.703 L2207.57 131.444 L2215.83 129.778 L2220.51 129.778 L2220.51 160.402 L2228.14 160.402 L2228.14 164.338 L2208.24 164.338 L2208.24 160.402 Z\" fill=\"#000000\" fill-rule=\"evenodd\" fill-opacity=\"1\" /></svg>\n"
          },
          "metadata": {},
          "execution_count": 23
        }
      ]
    },
    {
      "cell_type": "markdown",
      "source": [
        "There are of course other types of plots you could make. Let's try to make plot showing ```mean_compactness``` and ```mean_area``` against each other. Also try to make a density plot or histogram of the column of your choosing.\n",
        "\n",
        "Hint:\n",
        "- scatterplot: ```scatter()```\n",
        "- lineplot: ```plot()```\n",
        "- densityplot: ```density()```\n",
        "- histogram: ```histogram()```"
      ],
      "metadata": {
        "id": "YE6vYINcO94N"
      }
    },
    {
      "cell_type": "code",
      "source": [],
      "metadata": {
        "id": "BoVxXYeGPbqv"
      },
      "execution_count": null,
      "outputs": []
    },
    {
      "cell_type": "markdown",
      "source": [
        "### Let's do some modelling\n",
        "\n",
        "There are many algorithms available in Julia, which makes it a great language to do modelling in. However, it can seem the task very daunting, as we don't really know where to start. Luckily, there is a framework for that! Similarly to ```Plots```, the ```MLJ``` module is a framework that provides a toolbox and interface for performig a specific task, in this case machine learning. ```MLJ``` has a large library of algorithms that can be used in the MLJ workflow. It also includes the possibility of preprocessing data (e.g., scaling), or creating pipelines and model optimalisation approaches (e.g., training and evaluating a model using a nested CV approach). \n",
        "\n",
        "Let's first use ```unpack``` to select the X and y variables. We drop ID, but select all other features. For this we use the ```select!``` command. The ! means that the call is in place, so we don't have to explicitely define a new parameter (or rebind the result to X).\n",
        "\n",
        "We can also just simply call ```y,X = unpack(data, ==(:Class),!=(:ID)``` "
      ],
      "metadata": {
        "id": "PWDM1okYZ6QK"
      }
    },
    {
      "cell_type": "code",
      "source": [
        "y,X = unpack(data, ==(:Class))\n",
        "select!(X,Not(:ID));"
      ],
      "metadata": {
        "colab": {
          "base_uri": "https://localhost:8080/",
          "height": 675
        },
        "id": "Um-SivJ3bQ3t",
        "outputId": "797eb693-3bff-4c71-8a80-3b79c90f85bf"
      },
      "execution_count": null,
      "outputs": [
        {
          "output_type": "execute_result",
          "data": {
            "text/plain": [
              "\u001b[1m569×30 DataFrame\u001b[0m\n",
              "\u001b[1m Row \u001b[0m│\u001b[1m mean_radius \u001b[0m\u001b[1m mean_texture \u001b[0m\u001b[1m mean_perimeter \u001b[0m\u001b[1m mean_area \u001b[0m\u001b[1m mean_smoothness \u001b[0m\u001b[1m \u001b[0m ⋯\n",
              "     │\u001b[90m Float64     \u001b[0m\u001b[90m Float64      \u001b[0m\u001b[90m Float64        \u001b[0m\u001b[90m Float64   \u001b[0m\u001b[90m Float64         \u001b[0m\u001b[90m \u001b[0m ⋯\n",
              "─────┼──────────────────────────────────────────────────────────────────────────\n",
              "   1 │      17.99          10.38          122.8      1001.0          0.1184    ⋯\n",
              "   2 │      20.57          17.77          132.9      1326.0          0.08474\n",
              "   3 │      19.69          21.25          130.0      1203.0          0.1096\n",
              "   4 │      11.42          20.38           77.58      386.1          0.1425\n",
              "   5 │      20.29          14.34          135.1      1297.0          0.1003    ⋯\n",
              "   6 │      12.45          15.7            82.57      477.1          0.1278\n",
              "   7 │      18.25          19.98          119.6      1040.0          0.09463\n",
              "   8 │      13.71          20.83           90.2       577.9          0.1189\n",
              "   9 │      13.0           21.82           87.5       519.8          0.1273    ⋯\n",
              "  10 │      12.46          24.04           83.97      475.9          0.1186\n",
              "  11 │      16.02          23.24          102.7       797.8          0.08206\n",
              "  ⋮  │      ⋮            ⋮              ⋮             ⋮             ⋮          ⋱\n",
              " 560 │      11.51          23.93           74.52      403.5          0.09261\n",
              " 561 │      14.05          27.15           91.38      600.4          0.09929   ⋯\n",
              " 562 │      11.2           29.37           70.67      386.0          0.07449\n",
              " 563 │      15.22          30.62          103.4       716.9          0.1048\n",
              " 564 │      20.92          25.09          143.0      1347.0          0.1099\n",
              " 565 │      21.56          22.39          142.0      1479.0          0.111     ⋯\n",
              " 566 │      20.13          28.25          131.2      1261.0          0.0978\n",
              " 567 │      16.6           28.08          108.3       858.1          0.08455\n",
              " 568 │      20.6           29.33          140.1      1265.0          0.1178\n",
              " 569 │       7.76          24.54           47.92      181.0          0.05263   ⋯\n",
              "\u001b[36m                                                 25 columns and 548 rows omitted\u001b[0m"
            ],
            "text/html": [
              "<div><div style = \"float: left;\"><span>569×30 DataFrame</span></div><div style = \"float: right;\"><span style = \"font-style: italic;\">544 rows omitted</span></div><div style = \"clear: both;\"></div></div><div class = \"data-frame\" style = \"overflow-x: scroll;\"><table class = \"data-frame\" style = \"margin-bottom: 6px;\"><thead><tr class = \"header\"><th class = \"rowNumber\" style = \"font-weight: bold; text-align: right;\">Row</th><th style = \"text-align: left;\">mean_radius</th><th style = \"text-align: left;\">mean_texture</th><th style = \"text-align: left;\">mean_perimeter</th><th style = \"text-align: left;\">mean_area</th><th style = \"text-align: left;\">mean_smoothness</th><th style = \"text-align: left;\">mean_compactness</th><th style = \"text-align: left;\">mean_concavity</th><th style = \"text-align: left;\">mean_concave_points</th><th style = \"text-align: left;\">mean_symmetry</th><th style = \"text-align: left;\">mean_fractal_dimension</th><th style = \"text-align: left;\">radius_error</th><th style = \"text-align: left;\">texture_error</th><th style = \"text-align: left;\">perimeter_error</th><th style = \"text-align: left;\">area_error</th><th style = \"text-align: left;\">smoothness_error</th><th style = \"text-align: left;\">compactness_error</th><th style = \"text-align: left;\">concavity_error</th><th style = \"text-align: left;\">concave_points_error</th><th style = \"text-align: left;\">symmetry_error</th><th style = \"text-align: left;\">fractal_dimension error</th><th style = \"text-align: left;\">worst_adius</th><th style = \"text-align: left;\">worst_texture</th><th style = \"text-align: left;\">worst_perimeter</th><th style = \"text-align: left;\">worst_area</th><th style = \"text-align: left;\">worst_smoothness</th><th style = \"text-align: left;\">worst_compactness</th><th style = \"text-align: left;\">worst_concavity</th><th style = \"text-align: left;\">worst_concave_points</th><th style = \"text-align: left;\">worst_symmetry</th><th style = \"text-align: left;\">worst_fractal_dimension</th></tr><tr class = \"subheader headerLastRow\"><th class = \"rowNumber\" style = \"font-weight: bold; text-align: right;\"></th><th title = \"Float64\" style = \"text-align: left;\">Float64</th><th title = \"Float64\" style = \"text-align: left;\">Float64</th><th title = \"Float64\" style = \"text-align: left;\">Float64</th><th title = \"Float64\" style = \"text-align: left;\">Float64</th><th title = \"Float64\" style = \"text-align: left;\">Float64</th><th title = \"Float64\" style = \"text-align: left;\">Float64</th><th title = \"Float64\" style = \"text-align: left;\">Float64</th><th title = \"Float64\" style = \"text-align: left;\">Float64</th><th title = \"Float64\" style = \"text-align: left;\">Float64</th><th title = \"Float64\" style = \"text-align: left;\">Float64</th><th title = \"Float64\" style = \"text-align: left;\">Float64</th><th title = \"Float64\" style = \"text-align: left;\">Float64</th><th title = \"Float64\" style = \"text-align: left;\">Float64</th><th title = \"Float64\" style = \"text-align: left;\">Float64</th><th title = \"Float64\" style = \"text-align: left;\">Float64</th><th title = \"Float64\" style = \"text-align: left;\">Float64</th><th title = \"Float64\" style = \"text-align: left;\">Float64</th><th title = \"Float64\" style = \"text-align: left;\">Float64</th><th title = \"Float64\" style = \"text-align: left;\">Float64</th><th title = \"Float64\" style = \"text-align: left;\">Float64</th><th title = \"Float64\" style = \"text-align: left;\">Float64</th><th title = \"Float64\" style = \"text-align: left;\">Float64</th><th title = \"Float64\" style = \"text-align: left;\">Float64</th><th title = \"Float64\" style = \"text-align: left;\">Float64</th><th title = \"Float64\" style = \"text-align: left;\">Float64</th><th title = \"Float64\" style = \"text-align: left;\">Float64</th><th title = \"Float64\" style = \"text-align: left;\">Float64</th><th title = \"Float64\" style = \"text-align: left;\">Float64</th><th title = \"Float64\" style = \"text-align: left;\">Float64</th><th title = \"Float64\" style = \"text-align: left;\">Float64</th></tr></thead><tbody><tr><td class = \"rowNumber\" style = \"font-weight: bold; text-align: right;\">1</td><td style = \"text-align: right;\">17.99</td><td style = \"text-align: right;\">10.38</td><td style = \"text-align: right;\">122.8</td><td style = \"text-align: right;\">1001.0</td><td style = \"text-align: right;\">0.1184</td><td style = \"text-align: right;\">0.2776</td><td style = \"text-align: right;\">0.3001</td><td style = \"text-align: right;\">0.1471</td><td style = \"text-align: right;\">0.2419</td><td style = \"text-align: right;\">0.07871</td><td style = \"text-align: right;\">1.095</td><td style = \"text-align: right;\">0.9053</td><td style = \"text-align: right;\">8.589</td><td style = \"text-align: right;\">153.4</td><td style = \"text-align: right;\">0.006399</td><td style = \"text-align: right;\">0.04904</td><td style = \"text-align: right;\">0.05373</td><td style = \"text-align: right;\">0.01587</td><td style = \"text-align: right;\">0.03003</td><td style = \"text-align: right;\">0.006193</td><td style = \"text-align: right;\">25.38</td><td style = \"text-align: right;\">17.33</td><td style = \"text-align: right;\">184.6</td><td style = \"text-align: right;\">2019.0</td><td style = \"text-align: right;\">0.1622</td><td style = \"text-align: right;\">0.6656</td><td style = \"text-align: right;\">0.7119</td><td style = \"text-align: right;\">0.2654</td><td style = \"text-align: right;\">0.4601</td><td style = \"text-align: right;\">0.1189</td></tr><tr><td class = \"rowNumber\" style = \"font-weight: bold; text-align: right;\">2</td><td style = \"text-align: right;\">20.57</td><td style = \"text-align: right;\">17.77</td><td style = \"text-align: right;\">132.9</td><td style = \"text-align: right;\">1326.0</td><td style = \"text-align: right;\">0.08474</td><td style = \"text-align: right;\">0.07864</td><td style = \"text-align: right;\">0.0869</td><td style = \"text-align: right;\">0.07017</td><td style = \"text-align: right;\">0.1812</td><td style = \"text-align: right;\">0.05667</td><td style = \"text-align: right;\">0.5435</td><td style = \"text-align: right;\">0.7339</td><td style = \"text-align: right;\">3.398</td><td style = \"text-align: right;\">74.08</td><td style = \"text-align: right;\">0.005225</td><td style = \"text-align: right;\">0.01308</td><td style = \"text-align: right;\">0.0186</td><td style = \"text-align: right;\">0.0134</td><td style = \"text-align: right;\">0.01389</td><td style = \"text-align: right;\">0.003532</td><td style = \"text-align: right;\">24.99</td><td style = \"text-align: right;\">23.41</td><td style = \"text-align: right;\">158.8</td><td style = \"text-align: right;\">1956.0</td><td style = \"text-align: right;\">0.1238</td><td style = \"text-align: right;\">0.1866</td><td style = \"text-align: right;\">0.2416</td><td style = \"text-align: right;\">0.186</td><td style = \"text-align: right;\">0.275</td><td style = \"text-align: right;\">0.08902</td></tr><tr><td class = \"rowNumber\" style = \"font-weight: bold; text-align: right;\">3</td><td style = \"text-align: right;\">19.69</td><td style = \"text-align: right;\">21.25</td><td style = \"text-align: right;\">130.0</td><td style = \"text-align: right;\">1203.0</td><td style = \"text-align: right;\">0.1096</td><td style = \"text-align: right;\">0.1599</td><td style = \"text-align: right;\">0.1974</td><td style = \"text-align: right;\">0.1279</td><td style = \"text-align: right;\">0.2069</td><td style = \"text-align: right;\">0.05999</td><td style = \"text-align: right;\">0.7456</td><td style = \"text-align: right;\">0.7869</td><td style = \"text-align: right;\">4.585</td><td style = \"text-align: right;\">94.03</td><td style = \"text-align: right;\">0.00615</td><td style = \"text-align: right;\">0.04006</td><td style = \"text-align: right;\">0.03832</td><td style = \"text-align: right;\">0.02058</td><td style = \"text-align: right;\">0.0225</td><td style = \"text-align: right;\">0.004571</td><td style = \"text-align: right;\">23.57</td><td style = \"text-align: right;\">25.53</td><td style = \"text-align: right;\">152.5</td><td style = \"text-align: right;\">1709.0</td><td style = \"text-align: right;\">0.1444</td><td style = \"text-align: right;\">0.4245</td><td style = \"text-align: right;\">0.4504</td><td style = \"text-align: right;\">0.243</td><td style = \"text-align: right;\">0.3613</td><td style = \"text-align: right;\">0.08758</td></tr><tr><td class = \"rowNumber\" style = \"font-weight: bold; text-align: right;\">4</td><td style = \"text-align: right;\">11.42</td><td style = \"text-align: right;\">20.38</td><td style = \"text-align: right;\">77.58</td><td style = \"text-align: right;\">386.1</td><td style = \"text-align: right;\">0.1425</td><td style = \"text-align: right;\">0.2839</td><td style = \"text-align: right;\">0.2414</td><td style = \"text-align: right;\">0.1052</td><td style = \"text-align: right;\">0.2597</td><td style = \"text-align: right;\">0.09744</td><td style = \"text-align: right;\">0.4956</td><td style = \"text-align: right;\">1.156</td><td style = \"text-align: right;\">3.445</td><td style = \"text-align: right;\">27.23</td><td style = \"text-align: right;\">0.00911</td><td style = \"text-align: right;\">0.07458</td><td style = \"text-align: right;\">0.05661</td><td style = \"text-align: right;\">0.01867</td><td style = \"text-align: right;\">0.05963</td><td style = \"text-align: right;\">0.009208</td><td style = \"text-align: right;\">14.91</td><td style = \"text-align: right;\">26.5</td><td style = \"text-align: right;\">98.87</td><td style = \"text-align: right;\">567.7</td><td style = \"text-align: right;\">0.2098</td><td style = \"text-align: right;\">0.8663</td><td style = \"text-align: right;\">0.6869</td><td style = \"text-align: right;\">0.2575</td><td style = \"text-align: right;\">0.6638</td><td style = \"text-align: right;\">0.173</td></tr><tr><td class = \"rowNumber\" style = \"font-weight: bold; text-align: right;\">5</td><td style = \"text-align: right;\">20.29</td><td style = \"text-align: right;\">14.34</td><td style = \"text-align: right;\">135.1</td><td style = \"text-align: right;\">1297.0</td><td style = \"text-align: right;\">0.1003</td><td style = \"text-align: right;\">0.1328</td><td style = \"text-align: right;\">0.198</td><td style = \"text-align: right;\">0.1043</td><td style = \"text-align: right;\">0.1809</td><td style = \"text-align: right;\">0.05883</td><td style = \"text-align: right;\">0.7572</td><td style = \"text-align: right;\">0.7813</td><td style = \"text-align: right;\">5.438</td><td style = \"text-align: right;\">94.44</td><td style = \"text-align: right;\">0.01149</td><td style = \"text-align: right;\">0.02461</td><td style = \"text-align: right;\">0.05688</td><td style = \"text-align: right;\">0.01885</td><td style = \"text-align: right;\">0.01756</td><td style = \"text-align: right;\">0.005115</td><td style = \"text-align: right;\">22.54</td><td style = \"text-align: right;\">16.67</td><td style = \"text-align: right;\">152.2</td><td style = \"text-align: right;\">1575.0</td><td style = \"text-align: right;\">0.1374</td><td style = \"text-align: right;\">0.205</td><td style = \"text-align: right;\">0.4</td><td style = \"text-align: right;\">0.1625</td><td style = \"text-align: right;\">0.2364</td><td style = \"text-align: right;\">0.07678</td></tr><tr><td class = \"rowNumber\" style = \"font-weight: bold; text-align: right;\">6</td><td style = \"text-align: right;\">12.45</td><td style = \"text-align: right;\">15.7</td><td style = \"text-align: right;\">82.57</td><td style = \"text-align: right;\">477.1</td><td style = \"text-align: right;\">0.1278</td><td style = \"text-align: right;\">0.17</td><td style = \"text-align: right;\">0.1578</td><td style = \"text-align: right;\">0.08089</td><td style = \"text-align: right;\">0.2087</td><td style = \"text-align: right;\">0.07613</td><td style = \"text-align: right;\">0.3345</td><td style = \"text-align: right;\">0.8902</td><td style = \"text-align: right;\">2.217</td><td style = \"text-align: right;\">27.19</td><td style = \"text-align: right;\">0.00751</td><td style = \"text-align: right;\">0.03345</td><td style = \"text-align: right;\">0.03672</td><td style = \"text-align: right;\">0.01137</td><td style = \"text-align: right;\">0.02165</td><td style = \"text-align: right;\">0.005082</td><td style = \"text-align: right;\">15.47</td><td style = \"text-align: right;\">23.75</td><td style = \"text-align: right;\">103.4</td><td style = \"text-align: right;\">741.6</td><td style = \"text-align: right;\">0.1791</td><td style = \"text-align: right;\">0.5249</td><td style = \"text-align: right;\">0.5355</td><td style = \"text-align: right;\">0.1741</td><td style = \"text-align: right;\">0.3985</td><td style = \"text-align: right;\">0.1244</td></tr><tr><td class = \"rowNumber\" style = \"font-weight: bold; text-align: right;\">7</td><td style = \"text-align: right;\">18.25</td><td style = \"text-align: right;\">19.98</td><td style = \"text-align: right;\">119.6</td><td style = \"text-align: right;\">1040.0</td><td style = \"text-align: right;\">0.09463</td><td style = \"text-align: right;\">0.109</td><td style = \"text-align: right;\">0.1127</td><td style = \"text-align: right;\">0.074</td><td style = \"text-align: right;\">0.1794</td><td style = \"text-align: right;\">0.05742</td><td style = \"text-align: right;\">0.4467</td><td style = \"text-align: right;\">0.7732</td><td style = \"text-align: right;\">3.18</td><td style = \"text-align: right;\">53.91</td><td style = \"text-align: right;\">0.004314</td><td style = \"text-align: right;\">0.01382</td><td style = \"text-align: right;\">0.02254</td><td style = \"text-align: right;\">0.01039</td><td style = \"text-align: right;\">0.01369</td><td style = \"text-align: right;\">0.002179</td><td style = \"text-align: right;\">22.88</td><td style = \"text-align: right;\">27.66</td><td style = \"text-align: right;\">153.2</td><td style = \"text-align: right;\">1606.0</td><td style = \"text-align: right;\">0.1442</td><td style = \"text-align: right;\">0.2576</td><td style = \"text-align: right;\">0.3784</td><td style = \"text-align: right;\">0.1932</td><td style = \"text-align: right;\">0.3063</td><td style = \"text-align: right;\">0.08368</td></tr><tr><td class = \"rowNumber\" style = \"font-weight: bold; text-align: right;\">8</td><td style = \"text-align: right;\">13.71</td><td style = \"text-align: right;\">20.83</td><td style = \"text-align: right;\">90.2</td><td style = \"text-align: right;\">577.9</td><td style = \"text-align: right;\">0.1189</td><td style = \"text-align: right;\">0.1645</td><td style = \"text-align: right;\">0.09366</td><td style = \"text-align: right;\">0.05985</td><td style = \"text-align: right;\">0.2196</td><td style = \"text-align: right;\">0.07451</td><td style = \"text-align: right;\">0.5835</td><td style = \"text-align: right;\">1.377</td><td style = \"text-align: right;\">3.856</td><td style = \"text-align: right;\">50.96</td><td style = \"text-align: right;\">0.008805</td><td style = \"text-align: right;\">0.03029</td><td style = \"text-align: right;\">0.02488</td><td style = \"text-align: right;\">0.01448</td><td style = \"text-align: right;\">0.01486</td><td style = \"text-align: right;\">0.005412</td><td style = \"text-align: right;\">17.06</td><td style = \"text-align: right;\">28.14</td><td style = \"text-align: right;\">110.6</td><td style = \"text-align: right;\">897.0</td><td style = \"text-align: right;\">0.1654</td><td style = \"text-align: right;\">0.3682</td><td style = \"text-align: right;\">0.2678</td><td style = \"text-align: right;\">0.1556</td><td style = \"text-align: right;\">0.3196</td><td style = \"text-align: right;\">0.1151</td></tr><tr><td class = \"rowNumber\" style = \"font-weight: bold; text-align: right;\">9</td><td style = \"text-align: right;\">13.0</td><td style = \"text-align: right;\">21.82</td><td style = \"text-align: right;\">87.5</td><td style = \"text-align: right;\">519.8</td><td style = \"text-align: right;\">0.1273</td><td style = \"text-align: right;\">0.1932</td><td style = \"text-align: right;\">0.1859</td><td style = \"text-align: right;\">0.09353</td><td style = \"text-align: right;\">0.235</td><td style = \"text-align: right;\">0.07389</td><td style = \"text-align: right;\">0.3063</td><td style = \"text-align: right;\">1.002</td><td style = \"text-align: right;\">2.406</td><td style = \"text-align: right;\">24.32</td><td style = \"text-align: right;\">0.005731</td><td style = \"text-align: right;\">0.03502</td><td style = \"text-align: right;\">0.03553</td><td style = \"text-align: right;\">0.01226</td><td style = \"text-align: right;\">0.02143</td><td style = \"text-align: right;\">0.003749</td><td style = \"text-align: right;\">15.49</td><td style = \"text-align: right;\">30.73</td><td style = \"text-align: right;\">106.2</td><td style = \"text-align: right;\">739.3</td><td style = \"text-align: right;\">0.1703</td><td style = \"text-align: right;\">0.5401</td><td style = \"text-align: right;\">0.539</td><td style = \"text-align: right;\">0.206</td><td style = \"text-align: right;\">0.4378</td><td style = \"text-align: right;\">0.1072</td></tr><tr><td class = \"rowNumber\" style = \"font-weight: bold; text-align: right;\">10</td><td style = \"text-align: right;\">12.46</td><td style = \"text-align: right;\">24.04</td><td style = \"text-align: right;\">83.97</td><td style = \"text-align: right;\">475.9</td><td style = \"text-align: right;\">0.1186</td><td style = \"text-align: right;\">0.2396</td><td style = \"text-align: right;\">0.2273</td><td style = \"text-align: right;\">0.08543</td><td style = \"text-align: right;\">0.203</td><td style = \"text-align: right;\">0.08243</td><td style = \"text-align: right;\">0.2976</td><td style = \"text-align: right;\">1.599</td><td style = \"text-align: right;\">2.039</td><td style = \"text-align: right;\">23.94</td><td style = \"text-align: right;\">0.007149</td><td style = \"text-align: right;\">0.07217</td><td style = \"text-align: right;\">0.07743</td><td style = \"text-align: right;\">0.01432</td><td style = \"text-align: right;\">0.01789</td><td style = \"text-align: right;\">0.01008</td><td style = \"text-align: right;\">15.09</td><td style = \"text-align: right;\">40.68</td><td style = \"text-align: right;\">97.65</td><td style = \"text-align: right;\">711.4</td><td style = \"text-align: right;\">0.1853</td><td style = \"text-align: right;\">1.058</td><td style = \"text-align: right;\">1.105</td><td style = \"text-align: right;\">0.221</td><td style = \"text-align: right;\">0.4366</td><td style = \"text-align: right;\">0.2075</td></tr><tr><td class = \"rowNumber\" style = \"font-weight: bold; text-align: right;\">11</td><td style = \"text-align: right;\">16.02</td><td style = \"text-align: right;\">23.24</td><td style = \"text-align: right;\">102.7</td><td style = \"text-align: right;\">797.8</td><td style = \"text-align: right;\">0.08206</td><td style = \"text-align: right;\">0.06669</td><td style = \"text-align: right;\">0.03299</td><td style = \"text-align: right;\">0.03323</td><td style = \"text-align: right;\">0.1528</td><td style = \"text-align: right;\">0.05697</td><td style = \"text-align: right;\">0.3795</td><td style = \"text-align: right;\">1.187</td><td style = \"text-align: right;\">2.466</td><td style = \"text-align: right;\">40.51</td><td style = \"text-align: right;\">0.004029</td><td style = \"text-align: right;\">0.009269</td><td style = \"text-align: right;\">0.01101</td><td style = \"text-align: right;\">0.007591</td><td style = \"text-align: right;\">0.0146</td><td style = \"text-align: right;\">0.003042</td><td style = \"text-align: right;\">19.19</td><td style = \"text-align: right;\">33.88</td><td style = \"text-align: right;\">123.8</td><td style = \"text-align: right;\">1150.0</td><td style = \"text-align: right;\">0.1181</td><td style = \"text-align: right;\">0.1551</td><td style = \"text-align: right;\">0.1459</td><td style = \"text-align: right;\">0.09975</td><td style = \"text-align: right;\">0.2948</td><td style = \"text-align: right;\">0.08452</td></tr><tr><td class = \"rowNumber\" style = \"font-weight: bold; text-align: right;\">12</td><td style = \"text-align: right;\">15.78</td><td style = \"text-align: right;\">17.89</td><td style = \"text-align: right;\">103.6</td><td style = \"text-align: right;\">781.0</td><td style = \"text-align: right;\">0.0971</td><td style = \"text-align: right;\">0.1292</td><td style = \"text-align: right;\">0.09954</td><td style = \"text-align: right;\">0.06606</td><td style = \"text-align: right;\">0.1842</td><td style = \"text-align: right;\">0.06082</td><td style = \"text-align: right;\">0.5058</td><td style = \"text-align: right;\">0.9849</td><td style = \"text-align: right;\">3.564</td><td style = \"text-align: right;\">54.16</td><td style = \"text-align: right;\">0.005771</td><td style = \"text-align: right;\">0.04061</td><td style = \"text-align: right;\">0.02791</td><td style = \"text-align: right;\">0.01282</td><td style = \"text-align: right;\">0.02008</td><td style = \"text-align: right;\">0.004144</td><td style = \"text-align: right;\">20.42</td><td style = \"text-align: right;\">27.28</td><td style = \"text-align: right;\">136.5</td><td style = \"text-align: right;\">1299.0</td><td style = \"text-align: right;\">0.1396</td><td style = \"text-align: right;\">0.5609</td><td style = \"text-align: right;\">0.3965</td><td style = \"text-align: right;\">0.181</td><td style = \"text-align: right;\">0.3792</td><td style = \"text-align: right;\">0.1048</td></tr><tr><td class = \"rowNumber\" style = \"font-weight: bold; text-align: right;\">13</td><td style = \"text-align: right;\">19.17</td><td style = \"text-align: right;\">24.8</td><td style = \"text-align: right;\">132.4</td><td style = \"text-align: right;\">1123.0</td><td style = \"text-align: right;\">0.0974</td><td style = \"text-align: right;\">0.2458</td><td style = \"text-align: right;\">0.2065</td><td style = \"text-align: right;\">0.1118</td><td style = \"text-align: right;\">0.2397</td><td style = \"text-align: right;\">0.078</td><td style = \"text-align: right;\">0.9555</td><td style = \"text-align: right;\">3.568</td><td style = \"text-align: right;\">11.07</td><td style = \"text-align: right;\">116.2</td><td style = \"text-align: right;\">0.003139</td><td style = \"text-align: right;\">0.08297</td><td style = \"text-align: right;\">0.0889</td><td style = \"text-align: right;\">0.0409</td><td style = \"text-align: right;\">0.04484</td><td style = \"text-align: right;\">0.01284</td><td style = \"text-align: right;\">20.96</td><td style = \"text-align: right;\">29.94</td><td style = \"text-align: right;\">151.7</td><td style = \"text-align: right;\">1332.0</td><td style = \"text-align: right;\">0.1037</td><td style = \"text-align: right;\">0.3903</td><td style = \"text-align: right;\">0.3639</td><td style = \"text-align: right;\">0.1767</td><td style = \"text-align: right;\">0.3176</td><td style = \"text-align: right;\">0.1023</td></tr><tr><td style = \"text-align: right;\">&vellip;</td><td style = \"text-align: right;\">&vellip;</td><td style = \"text-align: right;\">&vellip;</td><td style = \"text-align: right;\">&vellip;</td><td style = \"text-align: right;\">&vellip;</td><td style = \"text-align: right;\">&vellip;</td><td style = \"text-align: right;\">&vellip;</td><td style = \"text-align: right;\">&vellip;</td><td style = \"text-align: right;\">&vellip;</td><td style = \"text-align: right;\">&vellip;</td><td style = \"text-align: right;\">&vellip;</td><td style = \"text-align: right;\">&vellip;</td><td style = \"text-align: right;\">&vellip;</td><td style = \"text-align: right;\">&vellip;</td><td style = \"text-align: right;\">&vellip;</td><td style = \"text-align: right;\">&vellip;</td><td style = \"text-align: right;\">&vellip;</td><td style = \"text-align: right;\">&vellip;</td><td style = \"text-align: right;\">&vellip;</td><td style = \"text-align: right;\">&vellip;</td><td style = \"text-align: right;\">&vellip;</td><td style = \"text-align: right;\">&vellip;</td><td style = \"text-align: right;\">&vellip;</td><td style = \"text-align: right;\">&vellip;</td><td style = \"text-align: right;\">&vellip;</td><td style = \"text-align: right;\">&vellip;</td><td style = \"text-align: right;\">&vellip;</td><td style = \"text-align: right;\">&vellip;</td><td style = \"text-align: right;\">&vellip;</td><td style = \"text-align: right;\">&vellip;</td><td style = \"text-align: right;\">&vellip;</td></tr><tr><td class = \"rowNumber\" style = \"font-weight: bold; text-align: right;\">558</td><td style = \"text-align: right;\">9.423</td><td style = \"text-align: right;\">27.88</td><td style = \"text-align: right;\">59.26</td><td style = \"text-align: right;\">271.3</td><td style = \"text-align: right;\">0.08123</td><td style = \"text-align: right;\">0.04971</td><td style = \"text-align: right;\">0.0</td><td style = \"text-align: right;\">0.0</td><td style = \"text-align: right;\">0.1742</td><td style = \"text-align: right;\">0.06059</td><td style = \"text-align: right;\">0.5375</td><td style = \"text-align: right;\">2.927</td><td style = \"text-align: right;\">3.618</td><td style = \"text-align: right;\">29.11</td><td style = \"text-align: right;\">0.01159</td><td style = \"text-align: right;\">0.01124</td><td style = \"text-align: right;\">0.0</td><td style = \"text-align: right;\">0.0</td><td style = \"text-align: right;\">0.03004</td><td style = \"text-align: right;\">0.003324</td><td style = \"text-align: right;\">10.49</td><td style = \"text-align: right;\">34.24</td><td style = \"text-align: right;\">66.5</td><td style = \"text-align: right;\">330.6</td><td style = \"text-align: right;\">0.1073</td><td style = \"text-align: right;\">0.07158</td><td style = \"text-align: right;\">0.0</td><td style = \"text-align: right;\">0.0</td><td style = \"text-align: right;\">0.2475</td><td style = \"text-align: right;\">0.06969</td></tr><tr><td class = \"rowNumber\" style = \"font-weight: bold; text-align: right;\">559</td><td style = \"text-align: right;\">14.59</td><td style = \"text-align: right;\">22.68</td><td style = \"text-align: right;\">96.39</td><td style = \"text-align: right;\">657.1</td><td style = \"text-align: right;\">0.08473</td><td style = \"text-align: right;\">0.133</td><td style = \"text-align: right;\">0.1029</td><td style = \"text-align: right;\">0.03736</td><td style = \"text-align: right;\">0.1454</td><td style = \"text-align: right;\">0.06147</td><td style = \"text-align: right;\">0.2254</td><td style = \"text-align: right;\">1.108</td><td style = \"text-align: right;\">2.224</td><td style = \"text-align: right;\">19.54</td><td style = \"text-align: right;\">0.004242</td><td style = \"text-align: right;\">0.04639</td><td style = \"text-align: right;\">0.06578</td><td style = \"text-align: right;\">0.01606</td><td style = \"text-align: right;\">0.01638</td><td style = \"text-align: right;\">0.004406</td><td style = \"text-align: right;\">15.48</td><td style = \"text-align: right;\">27.27</td><td style = \"text-align: right;\">105.9</td><td style = \"text-align: right;\">733.5</td><td style = \"text-align: right;\">0.1026</td><td style = \"text-align: right;\">0.3171</td><td style = \"text-align: right;\">0.3662</td><td style = \"text-align: right;\">0.1105</td><td style = \"text-align: right;\">0.2258</td><td style = \"text-align: right;\">0.08004</td></tr><tr><td class = \"rowNumber\" style = \"font-weight: bold; text-align: right;\">560</td><td style = \"text-align: right;\">11.51</td><td style = \"text-align: right;\">23.93</td><td style = \"text-align: right;\">74.52</td><td style = \"text-align: right;\">403.5</td><td style = \"text-align: right;\">0.09261</td><td style = \"text-align: right;\">0.1021</td><td style = \"text-align: right;\">0.1112</td><td style = \"text-align: right;\">0.04105</td><td style = \"text-align: right;\">0.1388</td><td style = \"text-align: right;\">0.0657</td><td style = \"text-align: right;\">0.2388</td><td style = \"text-align: right;\">2.904</td><td style = \"text-align: right;\">1.936</td><td style = \"text-align: right;\">16.97</td><td style = \"text-align: right;\">0.0082</td><td style = \"text-align: right;\">0.02982</td><td style = \"text-align: right;\">0.05738</td><td style = \"text-align: right;\">0.01267</td><td style = \"text-align: right;\">0.01488</td><td style = \"text-align: right;\">0.004738</td><td style = \"text-align: right;\">12.48</td><td style = \"text-align: right;\">37.16</td><td style = \"text-align: right;\">82.28</td><td style = \"text-align: right;\">474.2</td><td style = \"text-align: right;\">0.1298</td><td style = \"text-align: right;\">0.2517</td><td style = \"text-align: right;\">0.363</td><td style = \"text-align: right;\">0.09653</td><td style = \"text-align: right;\">0.2112</td><td style = \"text-align: right;\">0.08732</td></tr><tr><td class = \"rowNumber\" style = \"font-weight: bold; text-align: right;\">561</td><td style = \"text-align: right;\">14.05</td><td style = \"text-align: right;\">27.15</td><td style = \"text-align: right;\">91.38</td><td style = \"text-align: right;\">600.4</td><td style = \"text-align: right;\">0.09929</td><td style = \"text-align: right;\">0.1126</td><td style = \"text-align: right;\">0.04462</td><td style = \"text-align: right;\">0.04304</td><td style = \"text-align: right;\">0.1537</td><td style = \"text-align: right;\">0.06171</td><td style = \"text-align: right;\">0.3645</td><td style = \"text-align: right;\">1.492</td><td style = \"text-align: right;\">2.888</td><td style = \"text-align: right;\">29.84</td><td style = \"text-align: right;\">0.007256</td><td style = \"text-align: right;\">0.02678</td><td style = \"text-align: right;\">0.02071</td><td style = \"text-align: right;\">0.01626</td><td style = \"text-align: right;\">0.0208</td><td style = \"text-align: right;\">0.005304</td><td style = \"text-align: right;\">15.3</td><td style = \"text-align: right;\">33.17</td><td style = \"text-align: right;\">100.2</td><td style = \"text-align: right;\">706.7</td><td style = \"text-align: right;\">0.1241</td><td style = \"text-align: right;\">0.2264</td><td style = \"text-align: right;\">0.1326</td><td style = \"text-align: right;\">0.1048</td><td style = \"text-align: right;\">0.225</td><td style = \"text-align: right;\">0.08321</td></tr><tr><td class = \"rowNumber\" style = \"font-weight: bold; text-align: right;\">562</td><td style = \"text-align: right;\">11.2</td><td style = \"text-align: right;\">29.37</td><td style = \"text-align: right;\">70.67</td><td style = \"text-align: right;\">386.0</td><td style = \"text-align: right;\">0.07449</td><td style = \"text-align: right;\">0.03558</td><td style = \"text-align: right;\">0.0</td><td style = \"text-align: right;\">0.0</td><td style = \"text-align: right;\">0.106</td><td style = \"text-align: right;\">0.05502</td><td style = \"text-align: right;\">0.3141</td><td style = \"text-align: right;\">3.896</td><td style = \"text-align: right;\">2.041</td><td style = \"text-align: right;\">22.81</td><td style = \"text-align: right;\">0.007594</td><td style = \"text-align: right;\">0.008878</td><td style = \"text-align: right;\">0.0</td><td style = \"text-align: right;\">0.0</td><td style = \"text-align: right;\">0.01989</td><td style = \"text-align: right;\">0.001773</td><td style = \"text-align: right;\">11.92</td><td style = \"text-align: right;\">38.3</td><td style = \"text-align: right;\">75.19</td><td style = \"text-align: right;\">439.6</td><td style = \"text-align: right;\">0.09267</td><td style = \"text-align: right;\">0.05494</td><td style = \"text-align: right;\">0.0</td><td style = \"text-align: right;\">0.0</td><td style = \"text-align: right;\">0.1566</td><td style = \"text-align: right;\">0.05905</td></tr><tr><td class = \"rowNumber\" style = \"font-weight: bold; text-align: right;\">563</td><td style = \"text-align: right;\">15.22</td><td style = \"text-align: right;\">30.62</td><td style = \"text-align: right;\">103.4</td><td style = \"text-align: right;\">716.9</td><td style = \"text-align: right;\">0.1048</td><td style = \"text-align: right;\">0.2087</td><td style = \"text-align: right;\">0.255</td><td style = \"text-align: right;\">0.09429</td><td style = \"text-align: right;\">0.2128</td><td style = \"text-align: right;\">0.07152</td><td style = \"text-align: right;\">0.2602</td><td style = \"text-align: right;\">1.205</td><td style = \"text-align: right;\">2.362</td><td style = \"text-align: right;\">22.65</td><td style = \"text-align: right;\">0.004625</td><td style = \"text-align: right;\">0.04844</td><td style = \"text-align: right;\">0.07359</td><td style = \"text-align: right;\">0.01608</td><td style = \"text-align: right;\">0.02137</td><td style = \"text-align: right;\">0.006142</td><td style = \"text-align: right;\">17.52</td><td style = \"text-align: right;\">42.79</td><td style = \"text-align: right;\">128.7</td><td style = \"text-align: right;\">915.0</td><td style = \"text-align: right;\">0.1417</td><td style = \"text-align: right;\">0.7917</td><td style = \"text-align: right;\">1.17</td><td style = \"text-align: right;\">0.2356</td><td style = \"text-align: right;\">0.4089</td><td style = \"text-align: right;\">0.1409</td></tr><tr><td class = \"rowNumber\" style = \"font-weight: bold; text-align: right;\">564</td><td style = \"text-align: right;\">20.92</td><td style = \"text-align: right;\">25.09</td><td style = \"text-align: right;\">143.0</td><td style = \"text-align: right;\">1347.0</td><td style = \"text-align: right;\">0.1099</td><td style = \"text-align: right;\">0.2236</td><td style = \"text-align: right;\">0.3174</td><td style = \"text-align: right;\">0.1474</td><td style = \"text-align: right;\">0.2149</td><td style = \"text-align: right;\">0.06879</td><td style = \"text-align: right;\">0.9622</td><td style = \"text-align: right;\">1.026</td><td style = \"text-align: right;\">8.758</td><td style = \"text-align: right;\">118.8</td><td style = \"text-align: right;\">0.006399</td><td style = \"text-align: right;\">0.0431</td><td style = \"text-align: right;\">0.07845</td><td style = \"text-align: right;\">0.02624</td><td style = \"text-align: right;\">0.02057</td><td style = \"text-align: right;\">0.006213</td><td style = \"text-align: right;\">24.29</td><td style = \"text-align: right;\">29.41</td><td style = \"text-align: right;\">179.1</td><td style = \"text-align: right;\">1819.0</td><td style = \"text-align: right;\">0.1407</td><td style = \"text-align: right;\">0.4186</td><td style = \"text-align: right;\">0.6599</td><td style = \"text-align: right;\">0.2542</td><td style = \"text-align: right;\">0.2929</td><td style = \"text-align: right;\">0.09873</td></tr><tr><td class = \"rowNumber\" style = \"font-weight: bold; text-align: right;\">565</td><td style = \"text-align: right;\">21.56</td><td style = \"text-align: right;\">22.39</td><td style = \"text-align: right;\">142.0</td><td style = \"text-align: right;\">1479.0</td><td style = \"text-align: right;\">0.111</td><td style = \"text-align: right;\">0.1159</td><td style = \"text-align: right;\">0.2439</td><td style = \"text-align: right;\">0.1389</td><td style = \"text-align: right;\">0.1726</td><td style = \"text-align: right;\">0.05623</td><td style = \"text-align: right;\">1.176</td><td style = \"text-align: right;\">1.256</td><td style = \"text-align: right;\">7.673</td><td style = \"text-align: right;\">158.7</td><td style = \"text-align: right;\">0.0103</td><td style = \"text-align: right;\">0.02891</td><td style = \"text-align: right;\">0.05198</td><td style = \"text-align: right;\">0.02454</td><td style = \"text-align: right;\">0.01114</td><td style = \"text-align: right;\">0.004239</td><td style = \"text-align: right;\">25.45</td><td style = \"text-align: right;\">26.4</td><td style = \"text-align: right;\">166.1</td><td style = \"text-align: right;\">2027.0</td><td style = \"text-align: right;\">0.141</td><td style = \"text-align: right;\">0.2113</td><td style = \"text-align: right;\">0.4107</td><td style = \"text-align: right;\">0.2216</td><td style = \"text-align: right;\">0.206</td><td style = \"text-align: right;\">0.07115</td></tr><tr><td class = \"rowNumber\" style = \"font-weight: bold; text-align: right;\">566</td><td style = \"text-align: right;\">20.13</td><td style = \"text-align: right;\">28.25</td><td style = \"text-align: right;\">131.2</td><td style = \"text-align: right;\">1261.0</td><td style = \"text-align: right;\">0.0978</td><td style = \"text-align: right;\">0.1034</td><td style = \"text-align: right;\">0.144</td><td style = \"text-align: right;\">0.09791</td><td style = \"text-align: right;\">0.1752</td><td style = \"text-align: right;\">0.05533</td><td style = \"text-align: right;\">0.7655</td><td style = \"text-align: right;\">2.463</td><td style = \"text-align: right;\">5.203</td><td style = \"text-align: right;\">99.04</td><td style = \"text-align: right;\">0.005769</td><td style = \"text-align: right;\">0.02423</td><td style = \"text-align: right;\">0.0395</td><td style = \"text-align: right;\">0.01678</td><td style = \"text-align: right;\">0.01898</td><td style = \"text-align: right;\">0.002498</td><td style = \"text-align: right;\">23.69</td><td style = \"text-align: right;\">38.25</td><td style = \"text-align: right;\">155.0</td><td style = \"text-align: right;\">1731.0</td><td style = \"text-align: right;\">0.1166</td><td style = \"text-align: right;\">0.1922</td><td style = \"text-align: right;\">0.3215</td><td style = \"text-align: right;\">0.1628</td><td style = \"text-align: right;\">0.2572</td><td style = \"text-align: right;\">0.06637</td></tr><tr><td class = \"rowNumber\" style = \"font-weight: bold; text-align: right;\">567</td><td style = \"text-align: right;\">16.6</td><td style = \"text-align: right;\">28.08</td><td style = \"text-align: right;\">108.3</td><td style = \"text-align: right;\">858.1</td><td style = \"text-align: right;\">0.08455</td><td style = \"text-align: right;\">0.1023</td><td style = \"text-align: right;\">0.09251</td><td style = \"text-align: right;\">0.05302</td><td style = \"text-align: right;\">0.159</td><td style = \"text-align: right;\">0.05648</td><td style = \"text-align: right;\">0.4564</td><td style = \"text-align: right;\">1.075</td><td style = \"text-align: right;\">3.425</td><td style = \"text-align: right;\">48.55</td><td style = \"text-align: right;\">0.005903</td><td style = \"text-align: right;\">0.03731</td><td style = \"text-align: right;\">0.0473</td><td style = \"text-align: right;\">0.01557</td><td style = \"text-align: right;\">0.01318</td><td style = \"text-align: right;\">0.003892</td><td style = \"text-align: right;\">18.98</td><td style = \"text-align: right;\">34.12</td><td style = \"text-align: right;\">126.7</td><td style = \"text-align: right;\">1124.0</td><td style = \"text-align: right;\">0.1139</td><td style = \"text-align: right;\">0.3094</td><td style = \"text-align: right;\">0.3403</td><td style = \"text-align: right;\">0.1418</td><td style = \"text-align: right;\">0.2218</td><td style = \"text-align: right;\">0.0782</td></tr><tr><td class = \"rowNumber\" style = \"font-weight: bold; text-align: right;\">568</td><td style = \"text-align: right;\">20.6</td><td style = \"text-align: right;\">29.33</td><td style = \"text-align: right;\">140.1</td><td style = \"text-align: right;\">1265.0</td><td style = \"text-align: right;\">0.1178</td><td style = \"text-align: right;\">0.277</td><td style = \"text-align: right;\">0.3514</td><td style = \"text-align: right;\">0.152</td><td style = \"text-align: right;\">0.2397</td><td style = \"text-align: right;\">0.07016</td><td style = \"text-align: right;\">0.726</td><td style = \"text-align: right;\">1.595</td><td style = \"text-align: right;\">5.772</td><td style = \"text-align: right;\">86.22</td><td style = \"text-align: right;\">0.006522</td><td style = \"text-align: right;\">0.06158</td><td style = \"text-align: right;\">0.07117</td><td style = \"text-align: right;\">0.01664</td><td style = \"text-align: right;\">0.02324</td><td style = \"text-align: right;\">0.006185</td><td style = \"text-align: right;\">25.74</td><td style = \"text-align: right;\">39.42</td><td style = \"text-align: right;\">184.6</td><td style = \"text-align: right;\">1821.0</td><td style = \"text-align: right;\">0.165</td><td style = \"text-align: right;\">0.8681</td><td style = \"text-align: right;\">0.9387</td><td style = \"text-align: right;\">0.265</td><td style = \"text-align: right;\">0.4087</td><td style = \"text-align: right;\">0.124</td></tr><tr><td class = \"rowNumber\" style = \"font-weight: bold; text-align: right;\">569</td><td style = \"text-align: right;\">7.76</td><td style = \"text-align: right;\">24.54</td><td style = \"text-align: right;\">47.92</td><td style = \"text-align: right;\">181.0</td><td style = \"text-align: right;\">0.05263</td><td style = \"text-align: right;\">0.04362</td><td style = \"text-align: right;\">0.0</td><td style = \"text-align: right;\">0.0</td><td style = \"text-align: right;\">0.1587</td><td style = \"text-align: right;\">0.05884</td><td style = \"text-align: right;\">0.3857</td><td style = \"text-align: right;\">1.428</td><td style = \"text-align: right;\">2.548</td><td style = \"text-align: right;\">19.15</td><td style = \"text-align: right;\">0.007189</td><td style = \"text-align: right;\">0.00466</td><td style = \"text-align: right;\">0.0</td><td style = \"text-align: right;\">0.0</td><td style = \"text-align: right;\">0.02676</td><td style = \"text-align: right;\">0.002783</td><td style = \"text-align: right;\">9.456</td><td style = \"text-align: right;\">30.37</td><td style = \"text-align: right;\">59.16</td><td style = \"text-align: right;\">268.6</td><td style = \"text-align: right;\">0.08996</td><td style = \"text-align: right;\">0.06444</td><td style = \"text-align: right;\">0.0</td><td style = \"text-align: right;\">0.0</td><td style = \"text-align: right;\">0.2871</td><td style = \"text-align: right;\">0.07039</td></tr></tbody></table></div>"
            ],
            "text/latex": "\\begin{tabular}{r|ccccccc}\n\t& mean\\_radius & mean\\_texture & mean\\_perimeter & mean\\_area & mean\\_smoothness & mean\\_compactness & \\\\\n\t\\hline\n\t& Float64 & Float64 & Float64 & Float64 & Float64 & Float64 & \\\\\n\t\\hline\n\t1 & 17.99 & 10.38 & 122.8 & 1001.0 & 0.1184 & 0.2776 & $\\dots$ \\\\\n\t2 & 20.57 & 17.77 & 132.9 & 1326.0 & 0.08474 & 0.07864 & $\\dots$ \\\\\n\t3 & 19.69 & 21.25 & 130.0 & 1203.0 & 0.1096 & 0.1599 & $\\dots$ \\\\\n\t4 & 11.42 & 20.38 & 77.58 & 386.1 & 0.1425 & 0.2839 & $\\dots$ \\\\\n\t5 & 20.29 & 14.34 & 135.1 & 1297.0 & 0.1003 & 0.1328 & $\\dots$ \\\\\n\t6 & 12.45 & 15.7 & 82.57 & 477.1 & 0.1278 & 0.17 & $\\dots$ \\\\\n\t7 & 18.25 & 19.98 & 119.6 & 1040.0 & 0.09463 & 0.109 & $\\dots$ \\\\\n\t8 & 13.71 & 20.83 & 90.2 & 577.9 & 0.1189 & 0.1645 & $\\dots$ \\\\\n\t9 & 13.0 & 21.82 & 87.5 & 519.8 & 0.1273 & 0.1932 & $\\dots$ \\\\\n\t10 & 12.46 & 24.04 & 83.97 & 475.9 & 0.1186 & 0.2396 & $\\dots$ \\\\\n\t11 & 16.02 & 23.24 & 102.7 & 797.8 & 0.08206 & 0.06669 & $\\dots$ \\\\\n\t12 & 15.78 & 17.89 & 103.6 & 781.0 & 0.0971 & 0.1292 & $\\dots$ \\\\\n\t13 & 19.17 & 24.8 & 132.4 & 1123.0 & 0.0974 & 0.2458 & $\\dots$ \\\\\n\t14 & 15.85 & 23.95 & 103.7 & 782.7 & 0.08401 & 0.1002 & $\\dots$ \\\\\n\t15 & 13.73 & 22.61 & 93.6 & 578.3 & 0.1131 & 0.2293 & $\\dots$ \\\\\n\t16 & 14.54 & 27.54 & 96.73 & 658.8 & 0.1139 & 0.1595 & $\\dots$ \\\\\n\t17 & 14.68 & 20.13 & 94.74 & 684.5 & 0.09867 & 0.072 & $\\dots$ \\\\\n\t18 & 16.13 & 20.68 & 108.1 & 798.8 & 0.117 & 0.2022 & $\\dots$ \\\\\n\t19 & 19.81 & 22.15 & 130.0 & 1260.0 & 0.09831 & 0.1027 & $\\dots$ \\\\\n\t20 & 13.54 & 14.36 & 87.46 & 566.3 & 0.09779 & 0.08129 & $\\dots$ \\\\\n\t21 & 13.08 & 15.71 & 85.63 & 520.0 & 0.1075 & 0.127 & $\\dots$ \\\\\n\t22 & 9.504 & 12.44 & 60.34 & 273.9 & 0.1024 & 0.06492 & $\\dots$ \\\\\n\t23 & 15.34 & 14.26 & 102.5 & 704.4 & 0.1073 & 0.2135 & $\\dots$ \\\\\n\t24 & 21.16 & 23.04 & 137.2 & 1404.0 & 0.09428 & 0.1022 & $\\dots$ \\\\\n\t25 & 16.65 & 21.38 & 110.0 & 904.6 & 0.1121 & 0.1457 & $\\dots$ \\\\\n\t26 & 17.14 & 16.4 & 116.0 & 912.7 & 0.1186 & 0.2276 & $\\dots$ \\\\\n\t27 & 14.58 & 21.53 & 97.41 & 644.8 & 0.1054 & 0.1868 & $\\dots$ \\\\\n\t28 & 18.61 & 20.25 & 122.1 & 1094.0 & 0.0944 & 0.1066 & $\\dots$ \\\\\n\t29 & 15.3 & 25.27 & 102.4 & 732.4 & 0.1082 & 0.1697 & $\\dots$ \\\\\n\t30 & 17.57 & 15.05 & 115.0 & 955.1 & 0.09847 & 0.1157 & $\\dots$ \\\\\n\t$\\dots$ & $\\dots$ & $\\dots$ & $\\dots$ & $\\dots$ & $\\dots$ & $\\dots$ &  \\\\\n\\end{tabular}\n"
          },
          "metadata": {},
          "execution_count": 77
        }
      ]
    },
    {
      "cell_type": "markdown",
      "source": [
        "We then use a StandardScaler, so that all means are 0, and all standard deviations are 1. For this we use ```Standardizer``` from the ```MLJModels``` module. There are some things going on:\n",
        "\n",
        "- ```@load``` is a call from the MLJ module, which is used to load in models from other packages (we will use this later on also for ```XGBoost``` and ```MLJLinearModels```. We define the model we want to use, and we define the package where this model is found.\n",
        "\n",
        "- We instantiate a standardiser (much like in Scikit-Learn)\n",
        "\n",
        "- We then define a ```machine```, which is an object where a model and hyperparameters are stored in.\n",
        "\n",
        "- We use ```fit!``` to fit the machine (in place), and then transform (from the MLJ package) to transform the data to the standardized data."
      ],
      "metadata": {
        "id": "zxXc6Kyp8J4r"
      }
    },
    {
      "cell_type": "code",
      "source": [
        "Standardizer = (@load Standardizer pkg=MLJModels verbosity=0)\n",
        "stand1 = Standardizer();\n",
        "\n",
        "mach_standardiser = machine(stand1,X)\n",
        "\n",
        "X_transformed = MLJ.transform(fit!(mach_standardiser),X);\n"
      ],
      "metadata": {
        "colab": {
          "base_uri": "https://localhost:8080/",
          "height": 710
        },
        "id": "9YEI5hcy7rKz",
        "outputId": "f1179afe-8248-45d8-c2af-60caa7d6256d"
      },
      "execution_count": null,
      "outputs": [
        {
          "output_type": "stream",
          "name": "stderr",
          "text": [
            "┌ Info: Training machine(Standardizer(features = Symbol[], …), …).\n",
            "└ @ MLJBase /root/.julia/packages/MLJBase/6ooqv/src/machines.jl:496\n"
          ]
        },
        {
          "output_type": "execute_result",
          "data": {
            "text/plain": [
              "\u001b[1m569×30 DataFrame\u001b[0m\n",
              "\u001b[1m Row \u001b[0m│\u001b[1m mean_radius \u001b[0m\u001b[1m mean_texture \u001b[0m\u001b[1m mean_perimeter \u001b[0m\u001b[1m mean_area   \u001b[0m\u001b[1m mean_smoothness\u001b[0m ⋯\n",
              "     │\u001b[90m Float64     \u001b[0m\u001b[90m Float64      \u001b[0m\u001b[90m Float64        \u001b[0m\u001b[90m Float64     \u001b[0m\u001b[90m Float64        \u001b[0m ⋯\n",
              "─────┼──────────────────────────────────────────────────────────────────────────\n",
              "   1 │   1.0961       -2.07151         1.26882     0.98351           1.56709   ⋯\n",
              "   2 │   1.82821      -0.353322        1.68447     1.90703          -0.826235\n",
              "   3 │   1.5785        0.455786        1.56513     1.55751           0.941382\n",
              "   4 │  -0.768233      0.253509       -0.592166   -0.763792          3.28067\n",
              "   5 │   1.74876      -1.1508          1.77501     1.82462           0.280125  ⋯\n",
              "   6 │  -0.475956     -0.834601       -0.386808   -0.505206          2.23545\n",
              "   7 │   1.16988       0.160508        1.13712     1.09433          -0.123028\n",
              "   8 │  -0.118413      0.358135       -0.0728028  -0.218772          1.60264\n",
              "   9 │  -0.319885      0.588312       -0.183919   -0.38387           2.1999    ⋯\n",
              "  10 │  -0.473118      1.10447        -0.329192   -0.508616          1.58131\n",
              "  11 │   0.537083      0.918465        0.441622    0.406096         -1.01679\n",
              "  ⋮  │      ⋮            ⋮              ⋮              ⋮              ⋮        ⋱\n",
              " 560 │  -0.742695      1.07889        -0.718097   -0.714348         -0.266656\n",
              " 561 │  -0.0219327     1.82755        -0.0242411  -0.154836          0.208311  ⋯\n",
              " 562 │  -0.830662      2.3437         -0.87654    -0.764076         -1.55504\n",
              " 563 │   0.310072      2.63433         0.47043     0.17621           0.600088\n",
              " 564 │   1.92753       1.34859         2.10013     1.9667            0.962713\n",
              " 565 │   2.10914       0.720838        2.05897     2.3418            1.04093   ⋯\n",
              " 566 │   1.70336       2.0833          1.61451     1.72233           0.102368\n",
              " 567 │   0.701667      2.04378         0.672084    0.577445         -0.839745\n",
              " 568 │   1.83672       2.3344          1.98078     1.73369           1.52443\n",
              " 569 │  -1.80681       1.22072        -1.81279    -1.3466           -3.10935   ⋯\n",
              "\u001b[36m                                                 25 columns and 548 rows omitted\u001b[0m"
            ],
            "text/html": [
              "<div><div style = \"float: left;\"><span>569×30 DataFrame</span></div><div style = \"float: right;\"><span style = \"font-style: italic;\">544 rows omitted</span></div><div style = \"clear: both;\"></div></div><div class = \"data-frame\" style = \"overflow-x: scroll;\"><table class = \"data-frame\" style = \"margin-bottom: 6px;\"><thead><tr class = \"header\"><th class = \"rowNumber\" style = \"font-weight: bold; text-align: right;\">Row</th><th style = \"text-align: left;\">mean_radius</th><th style = \"text-align: left;\">mean_texture</th><th style = \"text-align: left;\">mean_perimeter</th><th style = \"text-align: left;\">mean_area</th><th style = \"text-align: left;\">mean_smoothness</th><th style = \"text-align: left;\">mean_compactness</th><th style = \"text-align: left;\">mean_concavity</th><th style = \"text-align: left;\">mean_concave_points</th><th style = \"text-align: left;\">mean_symmetry</th><th style = \"text-align: left;\">mean_fractal_dimension</th><th style = \"text-align: left;\">radius_error</th><th style = \"text-align: left;\">texture_error</th><th style = \"text-align: left;\">perimeter_error</th><th style = \"text-align: left;\">area_error</th><th style = \"text-align: left;\">smoothness_error</th><th style = \"text-align: left;\">compactness_error</th><th style = \"text-align: left;\">concavity_error</th><th style = \"text-align: left;\">concave_points_error</th><th style = \"text-align: left;\">symmetry_error</th><th style = \"text-align: left;\">fractal_dimension error</th><th style = \"text-align: left;\">worst_adius</th><th style = \"text-align: left;\">worst_texture</th><th style = \"text-align: left;\">worst_perimeter</th><th style = \"text-align: left;\">worst_area</th><th style = \"text-align: left;\">worst_smoothness</th><th style = \"text-align: left;\">worst_compactness</th><th style = \"text-align: left;\">worst_concavity</th><th style = \"text-align: left;\">worst_concave_points</th><th style = \"text-align: left;\">worst_symmetry</th><th style = \"text-align: left;\">worst_fractal_dimension</th></tr><tr class = \"subheader headerLastRow\"><th class = \"rowNumber\" style = \"font-weight: bold; text-align: right;\"></th><th title = \"Float64\" style = \"text-align: left;\">Float64</th><th title = \"Float64\" style = \"text-align: left;\">Float64</th><th title = \"Float64\" style = \"text-align: left;\">Float64</th><th title = \"Float64\" style = \"text-align: left;\">Float64</th><th title = \"Float64\" style = \"text-align: left;\">Float64</th><th title = \"Float64\" style = \"text-align: left;\">Float64</th><th title = \"Float64\" style = \"text-align: left;\">Float64</th><th title = \"Float64\" style = \"text-align: left;\">Float64</th><th title = \"Float64\" style = \"text-align: left;\">Float64</th><th title = \"Float64\" style = \"text-align: left;\">Float64</th><th title = \"Float64\" style = \"text-align: left;\">Float64</th><th title = \"Float64\" style = \"text-align: left;\">Float64</th><th title = \"Float64\" style = \"text-align: left;\">Float64</th><th title = \"Float64\" style = \"text-align: left;\">Float64</th><th title = \"Float64\" style = \"text-align: left;\">Float64</th><th title = \"Float64\" style = \"text-align: left;\">Float64</th><th title = \"Float64\" style = \"text-align: left;\">Float64</th><th title = \"Float64\" style = \"text-align: left;\">Float64</th><th title = \"Float64\" style = \"text-align: left;\">Float64</th><th title = \"Float64\" style = \"text-align: left;\">Float64</th><th title = \"Float64\" style = \"text-align: left;\">Float64</th><th title = \"Float64\" style = \"text-align: left;\">Float64</th><th title = \"Float64\" style = \"text-align: left;\">Float64</th><th title = \"Float64\" style = \"text-align: left;\">Float64</th><th title = \"Float64\" style = \"text-align: left;\">Float64</th><th title = \"Float64\" style = \"text-align: left;\">Float64</th><th title = \"Float64\" style = \"text-align: left;\">Float64</th><th title = \"Float64\" style = \"text-align: left;\">Float64</th><th title = \"Float64\" style = \"text-align: left;\">Float64</th><th title = \"Float64\" style = \"text-align: left;\">Float64</th></tr></thead><tbody><tr><td class = \"rowNumber\" style = \"font-weight: bold; text-align: right;\">1</td><td style = \"text-align: right;\">1.0961</td><td style = \"text-align: right;\">-2.07151</td><td style = \"text-align: right;\">1.26882</td><td style = \"text-align: right;\">0.98351</td><td style = \"text-align: right;\">1.56709</td><td style = \"text-align: right;\">3.28063</td><td style = \"text-align: right;\">2.65054</td><td style = \"text-align: right;\">2.53025</td><td style = \"text-align: right;\">2.21557</td><td style = \"text-align: right;\">2.25376</td><td style = \"text-align: right;\">2.48755</td><td style = \"text-align: right;\">-0.564768</td><td style = \"text-align: right;\">2.83054</td><td style = \"text-align: right;\">2.48539</td><td style = \"text-align: right;\">-0.213814</td><td style = \"text-align: right;\">1.3157</td><td style = \"text-align: right;\">0.72339</td><td style = \"text-align: right;\">0.660239</td><td style = \"text-align: right;\">1.14775</td><td style = \"text-align: right;\">0.906286</td><td style = \"text-align: right;\">1.88503</td><td style = \"text-align: right;\">-1.3581</td><td style = \"text-align: right;\">2.30158</td><td style = \"text-align: right;\">1.99948</td><td style = \"text-align: right;\">1.30654</td><td style = \"text-align: right;\">2.61436</td><td style = \"text-align: right;\">2.10767</td><td style = \"text-align: right;\">2.29406</td><td style = \"text-align: right;\">2.7482</td><td style = \"text-align: right;\">1.93531</td></tr><tr><td class = \"rowNumber\" style = \"font-weight: bold; text-align: right;\">2</td><td style = \"text-align: right;\">1.82821</td><td style = \"text-align: right;\">-0.353322</td><td style = \"text-align: right;\">1.68447</td><td style = \"text-align: right;\">1.90703</td><td style = \"text-align: right;\">-0.826235</td><td style = \"text-align: right;\">-0.486643</td><td style = \"text-align: right;\">-0.0238249</td><td style = \"text-align: right;\">0.547662</td><td style = \"text-align: right;\">0.00139114</td><td style = \"text-align: right;\">-0.867889</td><td style = \"text-align: right;\">0.498816</td><td style = \"text-align: right;\">-0.875473</td><td style = \"text-align: right;\">0.263095</td><td style = \"text-align: right;\">0.741749</td><td style = \"text-align: right;\">-0.604819</td><td style = \"text-align: right;\">-0.692317</td><td style = \"text-align: right;\">-0.440393</td><td style = \"text-align: right;\">0.259933</td><td style = \"text-align: right;\">-0.804742</td><td style = \"text-align: right;\">-0.0993563</td><td style = \"text-align: right;\">1.80434</td><td style = \"text-align: right;\">-0.368879</td><td style = \"text-align: right;\">1.53378</td><td style = \"text-align: right;\">1.88883</td><td style = \"text-align: right;\">-0.375282</td><td style = \"text-align: right;\">-0.430066</td><td style = \"text-align: right;\">-0.14662</td><td style = \"text-align: right;\">1.08613</td><td style = \"text-align: right;\">-0.243675</td><td style = \"text-align: right;\">0.280943</td></tr><tr><td class = \"rowNumber\" style = \"font-weight: bold; text-align: right;\">3</td><td style = \"text-align: right;\">1.5785</td><td style = \"text-align: right;\">0.455786</td><td style = \"text-align: right;\">1.56513</td><td style = \"text-align: right;\">1.55751</td><td style = \"text-align: right;\">0.941382</td><td style = \"text-align: right;\">1.052</td><td style = \"text-align: right;\">1.36228</td><td style = \"text-align: right;\">2.03544</td><td style = \"text-align: right;\">0.938859</td><td style = \"text-align: right;\">-0.397658</td><td style = \"text-align: right;\">1.2276</td><td style = \"text-align: right;\">-0.779398</td><td style = \"text-align: right;\">0.85018</td><td style = \"text-align: right;\">1.1803</td><td style = \"text-align: right;\">-0.296744</td><td style = \"text-align: right;\">0.814257</td><td style = \"text-align: right;\">0.212889</td><td style = \"text-align: right;\">1.42357</td><td style = \"text-align: right;\">0.236827</td><td style = \"text-align: right;\">0.293301</td><td style = \"text-align: right;\">1.51054</td><td style = \"text-align: right;\">-0.0239533</td><td style = \"text-align: right;\">1.34629</td><td style = \"text-align: right;\">1.455</td><td style = \"text-align: right;\">0.526944</td><td style = \"text-align: right;\">1.08198</td><td style = \"text-align: right;\">0.854222</td><td style = \"text-align: right;\">1.95328</td><td style = \"text-align: right;\">1.15124</td><td style = \"text-align: right;\">0.201214</td></tr><tr><td class = \"rowNumber\" style = \"font-weight: bold; text-align: right;\">4</td><td style = \"text-align: right;\">-0.768233</td><td style = \"text-align: right;\">0.253509</td><td style = \"text-align: right;\">-0.592166</td><td style = \"text-align: right;\">-0.763792</td><td style = \"text-align: right;\">3.28067</td><td style = \"text-align: right;\">3.39992</td><td style = \"text-align: right;\">1.91421</td><td style = \"text-align: right;\">1.45043</td><td style = \"text-align: right;\">2.86486</td><td style = \"text-align: right;\">4.9066</td><td style = \"text-align: right;\">0.326087</td><td style = \"text-align: right;\">-0.110312</td><td style = \"text-align: right;\">0.286341</td><td style = \"text-align: right;\">-0.288125</td><td style = \"text-align: right;\">0.689095</td><td style = \"text-align: right;\">2.74187</td><td style = \"text-align: right;\">0.818798</td><td style = \"text-align: right;\">1.11403</td><td style = \"text-align: right;\">4.72852</td><td style = \"text-align: right;\">2.04571</td><td style = \"text-align: right;\">-0.281217</td><td style = \"text-align: right;\">0.133866</td><td style = \"text-align: right;\">-0.24972</td><td style = \"text-align: right;\">-0.549538</td><td style = \"text-align: right;\">3.39129</td><td style = \"text-align: right;\">3.88997</td><td style = \"text-align: right;\">1.98784</td><td style = \"text-align: right;\">2.17387</td><td style = \"text-align: right;\">6.04073</td><td style = \"text-align: right;\">4.93067</td></tr><tr><td class = \"rowNumber\" style = \"font-weight: bold; text-align: right;\">5</td><td style = \"text-align: right;\">1.74876</td><td style = \"text-align: right;\">-1.1508</td><td style = \"text-align: right;\">1.77501</td><td style = \"text-align: right;\">1.82462</td><td style = \"text-align: right;\">0.280125</td><td style = \"text-align: right;\">0.538866</td><td style = \"text-align: right;\">1.36981</td><td style = \"text-align: right;\">1.42724</td><td style = \"text-align: right;\">-0.00955206</td><td style = \"text-align: right;\">-0.561956</td><td style = \"text-align: right;\">1.26943</td><td style = \"text-align: right;\">-0.789549</td><td style = \"text-align: right;\">1.27207</td><td style = \"text-align: right;\">1.18931</td><td style = \"text-align: right;\">1.48176</td><td style = \"text-align: right;\">-0.0484772</td><td style = \"text-align: right;\">0.827742</td><td style = \"text-align: right;\">1.1432</td><td style = \"text-align: right;\">-0.360775</td><td style = \"text-align: right;\">0.498889</td><td style = \"text-align: right;\">1.29743</td><td style = \"text-align: right;\">-1.46548</td><td style = \"text-align: right;\">1.33736</td><td style = \"text-align: right;\">1.21965</td><td style = \"text-align: right;\">0.220362</td><td style = \"text-align: right;\">-0.313119</td><td style = \"text-align: right;\">0.61264</td><td style = \"text-align: right;\">0.728618</td><td style = \"text-align: right;\">-0.86759</td><td style = \"text-align: right;\">-0.396751</td></tr><tr><td class = \"rowNumber\" style = \"font-weight: bold; text-align: right;\">6</td><td style = \"text-align: right;\">-0.475956</td><td style = \"text-align: right;\">-0.834601</td><td style = \"text-align: right;\">-0.386808</td><td style = \"text-align: right;\">-0.505206</td><td style = \"text-align: right;\">2.23545</td><td style = \"text-align: right;\">1.24324</td><td style = \"text-align: right;\">0.86554</td><td style = \"text-align: right;\">0.823931</td><td style = \"text-align: right;\">1.00452</td><td style = \"text-align: right;\">1.88834</td><td style = \"text-align: right;\">-0.254846</td><td style = \"text-align: right;\">-0.592141</td><td style = \"text-align: right;\">-0.321022</td><td style = \"text-align: right;\">-0.289004</td><td style = \"text-align: right;\">0.156209</td><td style = \"text-align: right;\">0.445152</td><td style = \"text-align: right;\">0.159885</td><td style = \"text-align: right;\">-0.0690628</td><td style = \"text-align: right;\">0.134001</td><td style = \"text-align: right;\">0.486418</td><td style = \"text-align: right;\">-0.165353</td><td style = \"text-align: right;\">-0.31356</td><td style = \"text-align: right;\">-0.114908</td><td style = \"text-align: right;\">-0.244105</td><td style = \"text-align: right;\">2.04671</td><td style = \"text-align: right;\">1.7201</td><td style = \"text-align: right;\">1.26213</td><td style = \"text-align: right;\">0.905091</td><td style = \"text-align: right;\">1.75253</td><td style = \"text-align: right;\">2.23983</td></tr><tr><td class = \"rowNumber\" style = \"font-weight: bold; text-align: right;\">7</td><td style = \"text-align: right;\">1.16988</td><td style = \"text-align: right;\">0.160508</td><td style = \"text-align: right;\">1.13712</td><td style = \"text-align: right;\">1.09433</td><td style = \"text-align: right;\">-0.123028</td><td style = \"text-align: right;\">0.0882176</td><td style = \"text-align: right;\">0.299809</td><td style = \"text-align: right;\">0.646366</td><td style = \"text-align: right;\">-0.0642681</td><td style = \"text-align: right;\">-0.761662</td><td style = \"text-align: right;\">0.149751</td><td style = \"text-align: right;\">-0.804232</td><td style = \"text-align: right;\">0.155274</td><td style = \"text-align: right;\">0.298365</td><td style = \"text-align: right;\">-0.908231</td><td style = \"text-align: right;\">-0.650995</td><td style = \"text-align: right;\">-0.309869</td><td style = \"text-align: right;\">-0.227889</td><td style = \"text-align: right;\">-0.828937</td><td style = \"text-align: right;\">-0.61068</td><td style = \"text-align: right;\">1.36778</td><td style = \"text-align: right;\">0.322599</td><td style = \"text-align: right;\">1.36712</td><td style = \"text-align: right;\">1.2741</td><td style = \"text-align: right;\">0.518184</td><td style = \"text-align: right;\">0.0211963</td><td style = \"text-align: right;\">0.509104</td><td style = \"text-align: right;\">1.19566</td><td style = \"text-align: right;\">0.262245</td><td style = \"text-align: right;\">-0.0147175</td></tr><tr><td class = \"rowNumber\" style = \"font-weight: bold; text-align: right;\">8</td><td style = \"text-align: right;\">-0.118413</td><td style = \"text-align: right;\">0.358135</td><td style = \"text-align: right;\">-0.0728028</td><td style = \"text-align: right;\">-0.218772</td><td style = \"text-align: right;\">1.60264</td><td style = \"text-align: right;\">1.1391</td><td style = \"text-align: right;\">0.0609721</td><td style = \"text-align: right;\">0.281702</td><td style = \"text-align: right;\">1.40212</td><td style = \"text-align: right;\">1.65889</td><td style = \"text-align: right;\">0.643057</td><td style = \"text-align: right;\">0.290306</td><td style = \"text-align: right;\">0.48962</td><td style = \"text-align: right;\">0.233517</td><td style = \"text-align: right;\">0.587514</td><td style = \"text-align: right;\">0.268696</td><td style = \"text-align: right;\">-0.23235</td><td style = \"text-align: right;\">0.434966</td><td style = \"text-align: right;\">-0.687399</td><td style = \"text-align: right;\">0.611131</td><td style = \"text-align: right;\">0.163619</td><td style = \"text-align: right;\">0.400695</td><td style = \"text-align: right;\">0.0993612</td><td style = \"text-align: right;\">0.0288341</td><td style = \"text-align: right;\">1.44669</td><td style = \"text-align: right;\">0.724148</td><td style = \"text-align: right;\">-0.0210353</td><td style = \"text-align: right;\">0.623647</td><td style = \"text-align: right;\">0.477221</td><td style = \"text-align: right;\">1.72492</td></tr><tr><td class = \"rowNumber\" style = \"font-weight: bold; text-align: right;\">9</td><td style = \"text-align: right;\">-0.319885</td><td style = \"text-align: right;\">0.588312</td><td style = \"text-align: right;\">-0.183919</td><td style = \"text-align: right;\">-0.38387</td><td style = \"text-align: right;\">2.1999</td><td style = \"text-align: right;\">1.68253</td><td style = \"text-align: right;\">1.21802</td><td style = \"text-align: right;\">1.14968</td><td style = \"text-align: right;\">1.96387</td><td style = \"text-align: right;\">1.57108</td><td style = \"text-align: right;\">-0.356536</td><td style = \"text-align: right;\">-0.389475</td><td style = \"text-align: right;\">-0.227543</td><td style = \"text-align: right;\">-0.352093</td><td style = \"text-align: right;\">-0.436293</td><td style = \"text-align: right;\">0.532821</td><td style = \"text-align: right;\">0.120462</td><td style = \"text-align: right;\">0.0751769</td><td style = \"text-align: right;\">0.107387</td><td style = \"text-align: right;\">-0.0173479</td><td style = \"text-align: right;\">-0.161215</td><td style = \"text-align: right;\">0.82209</td><td style = \"text-align: right;\">-0.0315813</td><td style = \"text-align: right;\">-0.248145</td><td style = \"text-align: right;\">1.6613</td><td style = \"text-align: right;\">1.81671</td><td style = \"text-align: right;\">1.27891</td><td style = \"text-align: right;\">1.39039</td><td style = \"text-align: right;\">2.38776</td><td style = \"text-align: right;\">1.28752</td></tr><tr><td class = \"rowNumber\" style = \"font-weight: bold; text-align: right;\">10</td><td style = \"text-align: right;\">-0.473118</td><td style = \"text-align: right;\">1.10447</td><td style = \"text-align: right;\">-0.329192</td><td style = \"text-align: right;\">-0.508616</td><td style = \"text-align: right;\">1.58131</td><td style = \"text-align: right;\">2.5611</td><td style = \"text-align: right;\">1.73734</td><td style = \"text-align: right;\">0.940932</td><td style = \"text-align: right;\">0.796597</td><td style = \"text-align: right;\">2.78065</td><td style = \"text-align: right;\">-0.387909</td><td style = \"text-align: right;\">0.692736</td><td style = \"text-align: right;\">-0.40906</td><td style = \"text-align: right;\">-0.360447</td><td style = \"text-align: right;\">0.0359768</td><td style = \"text-align: right;\">2.60729</td><td style = \"text-align: right;\">1.50852</td><td style = \"text-align: right;\">0.409035</td><td style = \"text-align: right;\">-0.320854</td><td style = \"text-align: right;\">2.37526</td><td style = \"text-align: right;\">-0.243975</td><td style = \"text-align: right;\">2.44096</td><td style = \"text-align: right;\">-0.286026</td><td style = \"text-align: right;\">-0.297148</td><td style = \"text-align: right;\">2.31826</td><td style = \"text-align: right;\">5.10838</td><td style = \"text-align: right;\">3.99192</td><td style = \"text-align: right;\">1.61859</td><td style = \"text-align: right;\">2.36836</td><td style = \"text-align: right;\">6.84084</td></tr><tr><td class = \"rowNumber\" style = \"font-weight: bold; text-align: right;\">11</td><td style = \"text-align: right;\">0.537083</td><td style = \"text-align: right;\">0.918465</td><td style = \"text-align: right;\">0.441622</td><td style = \"text-align: right;\">0.406096</td><td style = \"text-align: right;\">-1.01679</td><td style = \"text-align: right;\">-0.712915</td><td style = \"text-align: right;\">-0.700068</td><td style = \"text-align: right;\">-0.40433</td><td style = \"text-align: right;\">-1.03457</td><td style = \"text-align: right;\">-0.825398</td><td style = \"text-align: right;\">-0.0925744</td><td style = \"text-align: right;\">-0.0541168</td><td style = \"text-align: right;\">-0.197867</td><td style = \"text-align: right;\">0.00380121</td><td style = \"text-align: right;\">-1.00315</td><td style = \"text-align: right;\">-0.905125</td><td style = \"text-align: right;\">-0.691833</td><td style = \"text-align: right;\">-0.681514</td><td style = \"text-align: right;\">-0.718852</td><td style = \"text-align: right;\">-0.284537</td><td style = \"text-align: right;\">0.604317</td><td style = \"text-align: right;\">1.3346</td><td style = \"text-align: right;\">0.492189</td><td style = \"text-align: right;\">0.473195</td><td style = \"text-align: right;\">-0.624927</td><td style = \"text-align: right;\">-0.630274</td><td style = \"text-align: right;\">-0.605339</td><td style = \"text-align: right;\">-0.226011</td><td style = \"text-align: right;\">0.0763637</td><td style = \"text-align: right;\">0.0317908</td></tr><tr><td class = \"rowNumber\" style = \"font-weight: bold; text-align: right;\">12</td><td style = \"text-align: right;\">0.46898</td><td style = \"text-align: right;\">-0.325421</td><td style = \"text-align: right;\">0.478661</td><td style = \"text-align: right;\">0.358357</td><td style = \"text-align: right;\">0.0525961</td><td style = \"text-align: right;\">0.470701</td><td style = \"text-align: right;\">0.13473</td><td style = \"text-align: right;\">0.441742</td><td style = \"text-align: right;\">0.110823</td><td style = \"text-align: right;\">-0.2801</td><td style = \"text-align: right;\">0.362868</td><td style = \"text-align: right;\">-0.420473</td><td style = \"text-align: right;\">0.345198</td><td style = \"text-align: right;\">0.303861</td><td style = \"text-align: right;\">-0.422971</td><td style = \"text-align: right;\">0.844969</td><td style = \"text-align: right;\">-0.131972</td><td style = \"text-align: right;\">0.165934</td><td style = \"text-align: right;\">-0.0559252</td><td style = \"text-align: right;\">0.13193</td><td style = \"text-align: right;\">0.858805</td><td style = \"text-align: right;\">0.260773</td><td style = \"text-align: right;\">0.870136</td><td style = \"text-align: right;\">0.734894</td><td style = \"text-align: right;\">0.316716</td><td style = \"text-align: right;\">1.94891</td><td style = \"text-align: right;\">0.595863</td><td style = \"text-align: right;\">1.01006</td><td style = \"text-align: right;\">1.44057</td><td style = \"text-align: right;\">1.15464</td></tr><tr><td class = \"rowNumber\" style = \"font-weight: bold; text-align: right;\">13</td><td style = \"text-align: right;\">1.43094</td><td style = \"text-align: right;\">1.28117</td><td style = \"text-align: right;\">1.6639</td><td style = \"text-align: right;\">1.33019</td><td style = \"text-align: right;\">0.073927</td><td style = \"text-align: right;\">2.6785</td><td style = \"text-align: right;\">1.47643</td><td style = \"text-align: right;\">1.62052</td><td style = \"text-align: right;\">2.13532</td><td style = \"text-align: right;\">2.1532</td><td style = \"text-align: right;\">1.9845</td><td style = \"text-align: right;\">4.26204</td><td style = \"text-align: right;\">4.05763</td><td style = \"text-align: right;\">1.66765</td><td style = \"text-align: right;\">-1.29957</td><td style = \"text-align: right;\">3.21037</td><td style = \"text-align: right;\">1.8885</td><td style = \"text-align: right;\">4.71678</td><td style = \"text-align: right;\">2.93934</td><td style = \"text-align: right;\">3.41831</td><td style = \"text-align: right;\">0.970531</td><td style = \"text-align: right;\">0.693556</td><td style = \"text-align: right;\">1.32248</td><td style = \"text-align: right;\">0.792854</td><td style = \"text-align: right;\">-1.25561</td><td style = \"text-align: right;\">0.864612</td><td style = \"text-align: right;\">0.439601</td><td style = \"text-align: right;\">0.944646</td><td style = \"text-align: right;\">0.444893</td><td style = \"text-align: right;\">1.01622</td></tr><tr><td style = \"text-align: right;\">&vellip;</td><td style = \"text-align: right;\">&vellip;</td><td style = \"text-align: right;\">&vellip;</td><td style = \"text-align: right;\">&vellip;</td><td style = \"text-align: right;\">&vellip;</td><td style = \"text-align: right;\">&vellip;</td><td style = \"text-align: right;\">&vellip;</td><td style = \"text-align: right;\">&vellip;</td><td style = \"text-align: right;\">&vellip;</td><td style = \"text-align: right;\">&vellip;</td><td style = \"text-align: right;\">&vellip;</td><td style = \"text-align: right;\">&vellip;</td><td style = \"text-align: right;\">&vellip;</td><td style = \"text-align: right;\">&vellip;</td><td style = \"text-align: right;\">&vellip;</td><td style = \"text-align: right;\">&vellip;</td><td style = \"text-align: right;\">&vellip;</td><td style = \"text-align: right;\">&vellip;</td><td style = \"text-align: right;\">&vellip;</td><td style = \"text-align: right;\">&vellip;</td><td style = \"text-align: right;\">&vellip;</td><td style = \"text-align: right;\">&vellip;</td><td style = \"text-align: right;\">&vellip;</td><td style = \"text-align: right;\">&vellip;</td><td style = \"text-align: right;\">&vellip;</td><td style = \"text-align: right;\">&vellip;</td><td style = \"text-align: right;\">&vellip;</td><td style = \"text-align: right;\">&vellip;</td><td style = \"text-align: right;\">&vellip;</td><td style = \"text-align: right;\">&vellip;</td><td style = \"text-align: right;\">&vellip;</td></tr><tr><td class = \"rowNumber\" style = \"font-weight: bold; text-align: right;\">558</td><td style = \"text-align: right;\">-1.33491</td><td style = \"text-align: right;\">1.99728</td><td style = \"text-align: right;\">-1.34611</td><td style = \"text-align: right;\">-1.09001</td><td style = \"text-align: right;\">-1.07581</td><td style = \"text-align: right;\">-1.03443</td><td style = \"text-align: right;\">-1.11389</td><td style = \"text-align: right;\">-1.26071</td><td style = \"text-align: right;\">-0.25395</td><td style = \"text-align: right;\">-0.312677</td><td style = \"text-align: right;\">0.477179</td><td style = \"text-align: right;\">3.10007</td><td style = \"text-align: right;\">0.371906</td><td style = \"text-align: right;\">-0.246798</td><td style = \"text-align: right;\">1.51507</td><td style = \"text-align: right;\">-0.795063</td><td style = \"text-align: right;\">-1.05657</td><td style = \"text-align: right;\">-1.91177</td><td style = \"text-align: right;\">1.14896</td><td style = \"text-align: right;\">-0.177963</td><td style = \"text-align: right;\">-1.19572</td><td style = \"text-align: right;\">1.39317</td><td style = \"text-align: right;\">-1.21304</td><td style = \"text-align: right;\">-0.965972</td><td style = \"text-align: right;\">-1.09794</td><td style = \"text-align: right;\">-1.16111</td><td style = \"text-align: right;\">-1.30468</td><td style = \"text-align: right;\">-1.74353</td><td style = \"text-align: right;\">-0.688174</td><td style = \"text-align: right;\">-0.789303</td></tr><tr><td class = \"rowNumber\" style = \"font-weight: bold; text-align: right;\">559</td><td style = \"text-align: right;\">0.1313</td><td style = \"text-align: right;\">0.788264</td><td style = \"text-align: right;\">0.18194</td><td style = \"text-align: right;\">0.00628249</td><td style = \"text-align: right;\">-0.826946</td><td style = \"text-align: right;\">0.542653</td><td style = \"text-align: right;\">0.176878</td><td style = \"text-align: right;\">-0.297894</td><td style = \"text-align: right;\">-1.3045</td><td style = \"text-align: right;\">-0.188037</td><td style = \"text-align: right;\">-0.648265</td><td style = \"text-align: right;\">-0.197324</td><td style = \"text-align: right;\">-0.31756</td><td style = \"text-align: right;\">-0.457169</td><td style = \"text-align: right;\">-0.932211</td><td style = \"text-align: right;\">1.16773</td><td style = \"text-align: right;\">1.12258</td><td style = \"text-align: right;\">0.691032</td><td style = \"text-align: right;\">-0.503522</td><td style = \"text-align: right;\">0.230945</td><td style = \"text-align: right;\">-0.163284</td><td style = \"text-align: right;\">0.259146</td><td style = \"text-align: right;\">-0.0405092</td><td style = \"text-align: right;\">-0.258332</td><td style = \"text-align: right;\">-1.30379</td><td style = \"text-align: right;\">0.399367</td><td style = \"text-align: right;\">0.450626</td><td style = \"text-align: right;\">-0.0624688</td><td style = \"text-align: right;\">-1.03892</td><td style = \"text-align: right;\">-0.216254</td></tr><tr><td class = \"rowNumber\" style = \"font-weight: bold; text-align: right;\">560</td><td style = \"text-align: right;\">-0.742695</td><td style = \"text-align: right;\">1.07889</td><td style = \"text-align: right;\">-0.718097</td><td style = \"text-align: right;\">-0.714348</td><td style = \"text-align: right;\">-0.266656</td><td style = \"text-align: right;\">-0.0424326</td><td style = \"text-align: right;\">0.280993</td><td style = \"text-align: right;\">-0.202798</td><td style = \"text-align: right;\">-1.54525</td><td style = \"text-align: right;\">0.411082</td><td style = \"text-align: right;\">-0.599944</td><td style = \"text-align: right;\">3.05837</td><td style = \"text-align: right;\">-0.460003</td><td style = \"text-align: right;\">-0.513664</td><td style = \"text-align: right;\">0.386016</td><td style = \"text-align: right;\">0.242451</td><td style = \"text-align: right;\">0.844306</td><td style = \"text-align: right;\">0.141624</td><td style = \"text-align: right;\">-0.68498</td><td style = \"text-align: right;\">0.356414</td><td style = \"text-align: right;\">-0.783985</td><td style = \"text-align: right;\">1.86826</td><td style = \"text-align: right;\">-0.743432</td><td style = \"text-align: right;\">-0.713758</td><td style = \"text-align: right;\">-0.112498</td><td style = \"text-align: right;\">-0.0163029</td><td style = \"text-align: right;\">0.435287</td><td style = \"text-align: right;\">-0.274997</td><td style = \"text-align: right;\">-1.27491</td><td style = \"text-align: right;\">0.186819</td></tr><tr><td class = \"rowNumber\" style = \"font-weight: bold; text-align: right;\">561</td><td style = \"text-align: right;\">-0.0219327</td><td style = \"text-align: right;\">1.82755</td><td style = \"text-align: right;\">-0.0242411</td><td style = \"text-align: right;\">-0.154836</td><td style = \"text-align: right;\">0.208311</td><td style = \"text-align: right;\">0.156383</td><td style = \"text-align: right;\">-0.554182</td><td style = \"text-align: right;\">-0.151513</td><td style = \"text-align: right;\">-1.00174</td><td style = \"text-align: right;\">-0.154044</td><td style = \"text-align: right;\">-0.146665</td><td style = \"text-align: right;\">0.498772</td><td style = \"text-align: right;\">0.0108518</td><td style = \"text-align: right;\">-0.230751</td><td style = \"text-align: right;\">0.0716136</td><td style = \"text-align: right;\">0.0726965</td><td style = \"text-align: right;\">-0.370493</td><td style = \"text-align: right;\">0.723445</td><td style = \"text-align: right;\">0.0311746</td><td style = \"text-align: right;\">0.570316</td><td style = \"text-align: right;\">-0.200526</td><td style = \"text-align: right;\">1.21908</td><td style = \"text-align: right;\">-0.210139</td><td style = \"text-align: right;\">-0.305403</td><td style = \"text-align: right;\">-0.362143</td><td style = \"text-align: right;\">-0.177105</td><td style = \"text-align: right;\">-0.66909</td><td style = \"text-align: right;\">-0.149184</td><td style = \"text-align: right;\">-1.05185</td><td style = \"text-align: right;\">-0.0407401</td></tr><tr><td class = \"rowNumber\" style = \"font-weight: bold; text-align: right;\">562</td><td style = \"text-align: right;\">-0.830662</td><td style = \"text-align: right;\">2.3437</td><td style = \"text-align: right;\">-0.87654</td><td style = \"text-align: right;\">-0.764076</td><td style = \"text-align: right;\">-1.55504</td><td style = \"text-align: right;\">-1.30198</td><td style = \"text-align: right;\">-1.11389</td><td style = \"text-align: right;\">-1.26071</td><td style = \"text-align: right;\">-2.7417</td><td style = \"text-align: right;\">-1.10159</td><td style = \"text-align: right;\">-0.328409</td><td style = \"text-align: right;\">4.85662</td><td style = \"text-align: right;\">-0.408071</td><td style = \"text-align: right;\">-0.385287</td><td style = \"text-align: right;\">0.184186</td><td style = \"text-align: right;\">-0.926958</td><td style = \"text-align: right;\">-1.05657</td><td style = \"text-align: right;\">-1.91177</td><td style = \"text-align: right;\">-0.0789099</td><td style = \"text-align: right;\">-0.764116</td><td style = \"text-align: right;\">-0.899849</td><td style = \"text-align: right;\">2.05373</td><td style = \"text-align: right;\">-0.954428</td><td style = \"text-align: right;\">-0.774528</td><td style = \"text-align: right;\">-1.73869</td><td style = \"text-align: right;\">-1.26687</td><td style = \"text-align: right;\">-1.30468</td><td style = \"text-align: right;\">-1.74353</td><td style = \"text-align: right;\">-2.15744</td><td style = \"text-align: right;\">-1.37841</td></tr><tr><td class = \"rowNumber\" style = \"font-weight: bold; text-align: right;\">563</td><td style = \"text-align: right;\">0.310072</td><td style = \"text-align: right;\">2.63433</td><td style = \"text-align: right;\">0.47043</td><td style = \"text-align: right;\">0.17621</td><td style = \"text-align: right;\">0.600088</td><td style = \"text-align: right;\">1.97602</td><td style = \"text-align: right;\">2.08481</td><td style = \"text-align: right;\">1.16927</td><td style = \"text-align: right;\">1.15408</td><td style = \"text-align: right;\">1.2354</td><td style = \"text-align: right;\">-0.522775</td><td style = \"text-align: right;\">-0.0214873</td><td style = \"text-align: right;\">-0.249305</td><td style = \"text-align: right;\">-0.388804</td><td style = \"text-align: right;\">-0.804651</td><td style = \"text-align: right;\">1.2822</td><td style = \"text-align: right;\">1.38131</td><td style = \"text-align: right;\">0.694273</td><td style = \"text-align: right;\">0.100129</td><td style = \"text-align: right;\">0.887012</td><td style = \"text-align: right;\">0.258793</td><td style = \"text-align: right;\">2.78426</td><td style = \"text-align: right;\">0.638011</td><td style = \"text-align: right;\">0.0604487</td><td style = \"text-align: right;\">0.408691</td><td style = \"text-align: right;\">3.41583</td><td style = \"text-align: right;\">4.30349</td><td style = \"text-align: right;\">1.8407</td><td style = \"text-align: right;\">1.92063</td><td style = \"text-align: right;\">3.15339</td></tr><tr><td class = \"rowNumber\" style = \"font-weight: bold; text-align: right;\">564</td><td style = \"text-align: right;\">1.92753</td><td style = \"text-align: right;\">1.34859</td><td style = \"text-align: right;\">2.10013</td><td style = \"text-align: right;\">1.9667</td><td style = \"text-align: right;\">0.962713</td><td style = \"text-align: right;\">2.25815</td><td style = \"text-align: right;\">2.86755</td><td style = \"text-align: right;\">2.53798</td><td style = \"text-align: right;\">1.23068</td><td style = \"text-align: right;\">0.848737</td><td style = \"text-align: right;\">2.00866</td><td style = \"text-align: right;\">-0.345969</td><td style = \"text-align: right;\">2.91413</td><td style = \"text-align: right;\">1.7248</td><td style = \"text-align: right;\">-0.213814</td><td style = \"text-align: right;\">0.984012</td><td style = \"text-align: right;\">1.54231</td><td style = \"text-align: right;\">2.34087</td><td style = \"text-align: right;\">0.00335107</td><td style = \"text-align: right;\">0.913844</td><td style = \"text-align: right;\">1.65951</td><td style = \"text-align: right;\">0.607325</td><td style = \"text-align: right;\">2.1379</td><td style = \"text-align: right;\">1.6482</td><td style = \"text-align: right;\">0.364894</td><td style = \"text-align: right;\">1.04448</td><td style = \"text-align: right;\">1.85842</td><td style = \"text-align: right;\">2.12367</td><td style = \"text-align: right;\">0.0456529</td><td style = \"text-align: right;\">0.818557</td></tr><tr><td class = \"rowNumber\" style = \"font-weight: bold; text-align: right;\">565</td><td style = \"text-align: right;\">2.10914</td><td style = \"text-align: right;\">0.720838</td><td style = \"text-align: right;\">2.05897</td><td style = \"text-align: right;\">2.3418</td><td style = \"text-align: right;\">1.04093</td><td style = \"text-align: right;\">0.218868</td><td style = \"text-align: right;\">1.94557</td><td style = \"text-align: right;\">2.31892</td><td style = \"text-align: right;\">-0.312314</td><td style = \"text-align: right;\">-0.930209</td><td style = \"text-align: right;\">2.77963</td><td style = \"text-align: right;\">0.0709629</td><td style = \"text-align: right;\">2.37749</td><td style = \"text-align: right;\">2.6019</td><td style = \"text-align: right;\">1.08543</td><td style = \"text-align: right;\">0.191637</td><td style = \"text-align: right;\">0.665416</td><td style = \"text-align: right;\">2.06536</td><td style = \"text-align: right;\">-1.13742</td><td style = \"text-align: right;\">0.167832</td><td style = \"text-align: right;\">1.89951</td><td style = \"text-align: right;\">0.117596</td><td style = \"text-align: right;\">1.75102</td><td style = \"text-align: right;\">2.01353</td><td style = \"text-align: right;\">0.378033</td><td style = \"text-align: right;\">-0.273077</td><td style = \"text-align: right;\">0.663928</td><td style = \"text-align: right;\">1.62772</td><td style = \"text-align: right;\">-1.35896</td><td style = \"text-align: right;\">-0.708467</td></tr><tr><td class = \"rowNumber\" style = \"font-weight: bold; text-align: right;\">566</td><td style = \"text-align: right;\">1.70336</td><td style = \"text-align: right;\">2.0833</td><td style = \"text-align: right;\">1.61451</td><td style = \"text-align: right;\">1.72233</td><td style = \"text-align: right;\">0.102368</td><td style = \"text-align: right;\">-0.0178174</td><td style = \"text-align: right;\">0.692434</td><td style = \"text-align: right;\">1.26256</td><td style = \"text-align: right;\">-0.217473</td><td style = \"text-align: right;\">-1.05768</td><td style = \"text-align: right;\">1.29936</td><td style = \"text-align: right;\">2.25895</td><td style = \"text-align: right;\">1.15584</td><td style = \"text-align: right;\">1.29043</td><td style = \"text-align: right;\">-0.423637</td><td style = \"text-align: right;\">-0.0696966</td><td style = \"text-align: right;\">0.25198</td><td style = \"text-align: right;\">0.80772</td><td style = \"text-align: right;\">-0.188995</td><td style = \"text-align: right;\">-0.490124</td><td style = \"text-align: right;\">1.53537</td><td style = \"text-align: right;\">2.0456</td><td style = \"text-align: right;\">1.42069</td><td style = \"text-align: right;\">1.49364</td><td style = \"text-align: right;\">-0.690623</td><td style = \"text-align: right;\">-0.394473</td><td style = \"text-align: right;\">0.236365</td><td style = \"text-align: right;\">0.733182</td><td style = \"text-align: right;\">-0.531387</td><td style = \"text-align: right;\">-0.973122</td></tr><tr><td class = \"rowNumber\" style = \"font-weight: bold; text-align: right;\">567</td><td style = \"text-align: right;\">0.701667</td><td style = \"text-align: right;\">2.04378</td><td style = \"text-align: right;\">0.672084</td><td style = \"text-align: right;\">0.577445</td><td style = \"text-align: right;\">-0.839745</td><td style = \"text-align: right;\">-0.0386457</td><td style = \"text-align: right;\">0.0465466</td><td style = \"text-align: right;\">0.105684</td><td style = \"text-align: right;\">-0.808406</td><td style = \"text-align: right;\">-0.8948</td><td style = \"text-align: right;\">0.18473</td><td style = \"text-align: right;\">-0.257145</td><td style = \"text-align: right;\">0.27645</td><td style = \"text-align: right;\">0.180539</td><td style = \"text-align: right;\">-0.379008</td><td style = \"text-align: right;\">0.660696</td><td style = \"text-align: right;\">0.510377</td><td style = \"text-align: right;\">0.611619</td><td style = \"text-align: right;\">-0.890632</td><td style = \"text-align: right;\">0.0366945</td><td style = \"text-align: right;\">0.560868</td><td style = \"text-align: right;\">1.37365</td><td style = \"text-align: right;\">0.578492</td><td style = \"text-align: right;\">0.427529</td><td style = \"text-align: right;\">-0.808876</td><td style = \"text-align: right;\">0.350427</td><td style = \"text-align: right;\">0.326479</td><td style = \"text-align: right;\">0.413705</td><td style = \"text-align: right;\">-1.10358</td><td style = \"text-align: right;\">-0.318129</td></tr><tr><td class = \"rowNumber\" style = \"font-weight: bold; text-align: right;\">568</td><td style = \"text-align: right;\">1.83672</td><td style = \"text-align: right;\">2.3344</td><td style = \"text-align: right;\">1.98078</td><td style = \"text-align: right;\">1.73369</td><td style = \"text-align: right;\">1.52443</td><td style = \"text-align: right;\">3.26927</td><td style = \"text-align: right;\">3.29405</td><td style = \"text-align: right;\">2.65653</td><td style = \"text-align: right;\">2.13532</td><td style = \"text-align: right;\">1.04278</td><td style = \"text-align: right;\">1.15692</td><td style = \"text-align: right;\">0.685485</td><td style = \"text-align: right;\">1.43726</td><td style = \"text-align: right;\">1.00862</td><td style = \"text-align: right;\">-0.172848</td><td style = \"text-align: right;\">2.01594</td><td style = \"text-align: right;\">1.30114</td><td style = \"text-align: right;\">0.785031</td><td style = \"text-align: right;\">0.326346</td><td style = \"text-align: right;\">0.903262</td><td style = \"text-align: right;\">1.95952</td><td style = \"text-align: right;\">2.23596</td><td style = \"text-align: right;\">2.30158</td><td style = \"text-align: right;\">1.65172</td><td style = \"text-align: right;\">1.42917</td><td style = \"text-align: right;\">3.90142</td><td style = \"text-align: right;\">3.19479</td><td style = \"text-align: right;\">2.28797</td><td style = \"text-align: right;\">1.9174</td><td style = \"text-align: right;\">2.21768</td></tr><tr><td class = \"rowNumber\" style = \"font-weight: bold; text-align: right;\">569</td><td style = \"text-align: right;\">-1.80681</td><td style = \"text-align: right;\">1.22072</td><td style = \"text-align: right;\">-1.81279</td><td style = \"text-align: right;\">-1.3466</td><td style = \"text-align: right;\">-3.10935</td><td style = \"text-align: right;\">-1.14974</td><td style = \"text-align: right;\">-1.11389</td><td style = \"text-align: right;\">-1.26071</td><td style = \"text-align: right;\">-0.819349</td><td style = \"text-align: right;\">-0.560539</td><td style = \"text-align: right;\">-0.070217</td><td style = \"text-align: right;\">0.382756</td><td style = \"text-align: right;\">-0.157311</td><td style = \"text-align: right;\">-0.465742</td><td style = \"text-align: right;\">0.049299</td><td style = \"text-align: right;\">-1.16249</td><td style = \"text-align: right;\">-1.05657</td><td style = \"text-align: right;\">-1.91177</td><td style = \"text-align: right;\">0.752168</td><td style = \"text-align: right;\">-0.382418</td><td style = \"text-align: right;\">-1.40965</td><td style = \"text-align: right;\">0.763518</td><td style = \"text-align: right;\">-1.43148</td><td style = \"text-align: right;\">-1.07487</td><td style = \"text-align: right;\">-1.85738</td><td style = \"text-align: right;\">-1.20649</td><td style = \"text-align: right;\">-1.30468</td><td style = \"text-align: right;\">-1.74353</td><td style = \"text-align: right;\">-0.0480959</td><td style = \"text-align: right;\">-0.750546</td></tr></tbody></table></div>"
            ],
            "text/latex": "\\begin{tabular}{r|ccccccc}\n\t& mean\\_radius & mean\\_texture & mean\\_perimeter & mean\\_area & mean\\_smoothness & mean\\_compactness & \\\\\n\t\\hline\n\t& Float64 & Float64 & Float64 & Float64 & Float64 & Float64 & \\\\\n\t\\hline\n\t1 & 1.0961 & -2.07151 & 1.26882 & 0.98351 & 1.56709 & 3.28063 & $\\dots$ \\\\\n\t2 & 1.82821 & -0.353322 & 1.68447 & 1.90703 & -0.826235 & -0.486643 & $\\dots$ \\\\\n\t3 & 1.5785 & 0.455786 & 1.56513 & 1.55751 & 0.941382 & 1.052 & $\\dots$ \\\\\n\t4 & -0.768233 & 0.253509 & -0.592166 & -0.763792 & 3.28067 & 3.39992 & $\\dots$ \\\\\n\t5 & 1.74876 & -1.1508 & 1.77501 & 1.82462 & 0.280125 & 0.538866 & $\\dots$ \\\\\n\t6 & -0.475956 & -0.834601 & -0.386808 & -0.505206 & 2.23545 & 1.24324 & $\\dots$ \\\\\n\t7 & 1.16988 & 0.160508 & 1.13712 & 1.09433 & -0.123028 & 0.0882176 & $\\dots$ \\\\\n\t8 & -0.118413 & 0.358135 & -0.0728028 & -0.218772 & 1.60264 & 1.1391 & $\\dots$ \\\\\n\t9 & -0.319885 & 0.588312 & -0.183919 & -0.38387 & 2.1999 & 1.68253 & $\\dots$ \\\\\n\t10 & -0.473118 & 1.10447 & -0.329192 & -0.508616 & 1.58131 & 2.5611 & $\\dots$ \\\\\n\t11 & 0.537083 & 0.918465 & 0.441622 & 0.406096 & -1.01679 & -0.712915 & $\\dots$ \\\\\n\t12 & 0.46898 & -0.325421 & 0.478661 & 0.358357 & 0.0525961 & 0.470701 & $\\dots$ \\\\\n\t13 & 1.43094 & 1.28117 & 1.6639 & 1.33019 & 0.073927 & 2.6785 & $\\dots$ \\\\\n\t14 & 0.488843 & 1.08354 & 0.482776 & 0.363188 & -0.878141 & -0.0784088 & $\\dots$ \\\\\n\t15 & -0.112737 & 0.771989 & 0.0671208 & -0.217636 & 1.19024 & 2.36608 & $\\dots$ \\\\\n\t16 & 0.117112 & 1.91822 & 0.195933 & 0.0111132 & 1.24712 & 1.04443 & $\\dots$ \\\\\n\t17 & 0.156839 & 0.195384 & 0.114036 & 0.0841424 & 0.164228 & -0.612371 & $\\dots$ \\\\\n\t18 & 0.568298 & 0.32326 & 0.663854 & 0.408938 & 1.46754 & 1.85294 & $\\dots$ \\\\\n\t19 & 1.61255 & 0.665038 & 1.56513 & 1.71948 & 0.138631 & -0.0310717 & $\\dots$ \\\\\n\t20 & -0.166653 & -1.14615 & -0.185565 & -0.251735 & 0.101657 & -0.436466 & $\\dots$ \\\\\n\t21 & -0.297184 & -0.832276 & -0.260877 & -0.383301 & 0.792066 & 0.429044 & $\\dots$ \\\\\n\t22 & -1.31193 & -1.59256 & -1.30166 & -1.08262 & 0.429441 & -0.746429 & $\\dots$ \\\\\n\t23 & 0.344124 & -1.1694 & 0.433391 & 0.14069 & 0.777846 & 2.06691 & $\\dots$ \\\\\n\t24 & 1.99563 & 0.871965 & 1.86143 & 2.12868 & -0.147914 & -0.0405391 & $\\dots$ \\\\\n\t25 & 0.715855 & 0.486011 & 0.742046 & 0.709579 & 1.11914 & 0.783125 & $\\dots$ \\\\\n\t26 & 0.8549 & -0.671849 & 0.98897 & 0.732596 & 1.58131 & 2.33389 & $\\dots$ \\\\\n\t27 & 0.128463 & 0.520887 & 0.223917 & -0.0286692 & 0.64275 & 1.56135 & $\\dots$ \\\\\n\t28 & 1.27203 & 0.223284 & 1.24001 & 1.24778 & -0.139382 & 0.0427741 & $\\dots$ \\\\\n\t29 & 0.332773 & 1.39044 & 0.429276 & 0.220255 & 0.841838 & 1.23756 & $\\dots$ \\\\\n\t30 & 0.976918 & -0.985727 & 0.947816 & 0.85308 & 0.150007 & 0.215081 & $\\dots$ \\\\\n\t$\\dots$ & $\\dots$ & $\\dots$ & $\\dots$ & $\\dots$ & $\\dots$ & $\\dots$ &  \\\\\n\\end{tabular}\n"
          },
          "metadata": {},
          "execution_count": 83
        }
      ]
    },
    {
      "cell_type": "code",
      "source": [],
      "metadata": {
        "id": "8lEY7Zuh9mTm"
      },
      "execution_count": null,
      "outputs": []
    }
  ]
}